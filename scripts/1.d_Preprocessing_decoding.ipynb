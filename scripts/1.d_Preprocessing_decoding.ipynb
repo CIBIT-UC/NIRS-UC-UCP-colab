{
 "cells": [
  {
   "cell_type": "markdown",
   "metadata": {},
   "source": [
    "# 0. Preset and definition of variables"
   ]
  },
  {
   "cell_type": "code",
   "execution_count": 1,
   "metadata": {},
   "outputs": [],
   "source": [
    "# import all the necessary packages\n",
    "import os\n",
    "\n",
    "import mne_nirs\n",
    "import mne_nirs.io\n",
    "from mne_nirs.channels import (get_long_channels,\n",
    "                               get_short_channels,\n",
    "                               picks_pair_to_idx)\n",
    "\n",
    "import mne_bids.stats\n",
    "import mne\n",
    "import mne.io\n",
    "\n",
    "import pandas as pd\n",
    "\n",
    "import numpy as np\n",
    "\n",
    "import matplotlib.pyplot as plt\n",
    "\n",
    "from nilearn.glm.first_level import make_first_level_design_matrix\n",
    "\n",
    "%matplotlib inline "
   ]
  },
  {
   "cell_type": "markdown",
   "metadata": {},
   "source": [
    "## 0.1 Download data for the creation of surface images.\n",
    "\n",
    "Templates required to creates images."
   ]
  },
  {
   "cell_type": "code",
   "execution_count": 2,
   "metadata": {},
   "outputs": [
    {
     "name": "stdout",
     "output_type": "stream",
     "text": [
      "0 files missing from root.txt in /Users/brunomiguel/mne_data/MNE-sample-data/subjects\n",
      "0 files missing from bem.txt in /Users/brunomiguel/mne_data/MNE-sample-data/subjects/fsaverage\n"
     ]
    },
    {
     "data": {
      "text/plain": [
       "'/Users/brunomiguel/mne_data/MNE-sample-data/subjects/fsaverage'"
      ]
     },
     "execution_count": 2,
     "metadata": {},
     "output_type": "execute_result"
    }
   ],
   "source": [
    "# Download anatomical locations\n",
    "subjects_dir = os.path.join(mne.datasets.sample.data_path(), 'subjects')\n",
    "mne.datasets.fetch_fsaverage(subjects_dir=subjects_dir)\n"
   ]
  },
  {
   "cell_type": "markdown",
   "metadata": {},
   "source": [
    "## 0.2 Select data\n",
    "\n",
    "Select data in the BIDS format. Set the root to the folder and number of the run."
   ]
  },
  {
   "cell_type": "code",
   "execution_count": 3,
   "metadata": {},
   "outputs": [
    {
     "name": "stdout",
     "output_type": "stream",
     "text": [
      "../data/S01/nirs\n"
     ]
    }
   ],
   "source": [
    "# Participant id.\n",
    "p_id = 'S01'\n",
    "\n",
    "# write data_path using p_id.\n",
    "data_path = os.path.join('..', 'data', p_id, 'nirs')\n",
    "\n",
    "print(data_path)\n",
    "\n",
    "# Run id.\n",
    "run_id = '1'"
   ]
  },
  {
   "cell_type": "markdown",
   "metadata": {},
   "source": [
    "Get snirf file for participant 'p_id' and run 'run_id'. Load data to the raw_intensity variable."
   ]
  },
  {
   "cell_type": "code",
   "execution_count": 4,
   "metadata": {},
   "outputs": [
    {
     "name": "stdout",
     "output_type": "stream",
     "text": [
      "Loading /Users/brunomiguel/Documents/GitHub/NIRS-UCP/scripts/../data/S01/nirs/sub-S01_task-music_run-1.snirf\n",
      "Reading 0 ... 2445  =      0.000 ...   194.133 secs...\n"
     ]
    }
   ],
   "source": [
    "# Create an empty list to store the raw intensity data\n",
    "raw_intensity = []\n",
    "\n",
    "# Get files with .snirf extension using os\n",
    "snirf_files = [os.path.join(data_path, f) for f in os.listdir(data_path) if f.endswith('.snirf')]\n",
    "\n",
    "# select file that contains run_id in its name\n",
    "snirf_file = [f for f in snirf_files if run_id in f]\n",
    "\n",
    "if snirf_file:\n",
    "    # Load the data in snirf_file\n",
    "    raw_intensity = mne.io.read_raw_snirf(snirf_file[0], preload=True)\n",
    "\n",
    "    raw_intensity.load_data()\n",
    "\n",
    "else:\n",
    "    \n",
    "    print('No snirf file found')\n",
    "\n"
   ]
  },
  {
   "cell_type": "markdown",
   "metadata": {},
   "source": [
    "# 1. Annotations, check for types of triggers and renaming\n",
    "\n",
    "The triggers codes correspondence: \"1\": \"Baseline\", \"2\": \"Q1\", \"3\": \"Q2\", \"4\": \"Q3\", \"5\": \"Q4\", \"8\": \"Begin\", \"9\": \"End\"\n"
   ]
  },
  {
   "cell_type": "code",
   "execution_count": 5,
   "metadata": {},
   "outputs": [],
   "source": [
    "# Default time sample for the end of the recording\n",
    "\n",
    "# t_max = lsat moment of the recording\n",
    "tmax = [] \n",
    "tmax.append( raw_intensity.times[-1] )"
   ]
  },
  {
   "cell_type": "code",
   "execution_count": 6,
   "metadata": {},
   "outputs": [
    {
     "data": {
      "text/plain": [
       "<Annotations | 19 segments: Baseline (5), M1 (3), M2 (3), M3 (3), M4 (3), ...>"
      ]
     },
     "execution_count": 6,
     "metadata": {},
     "output_type": "execute_result"
    }
   ],
   "source": [
    "# reset duration of conditions\n",
    "\n",
    "raw_intensity.annotations.set_durations(7.5)\n",
    "\n",
    "# rename conditions\n",
    "# raw_intensity.annotations.rename( {\"1\": \"Baseline\",\"2\": \"Q1\",\"3\": \"Q2\", \"4\": \"Q3\", \"5\": \"Q4\", \"8\": \"Begin\",\"9\": \"End\"} )\n",
    "\n",
    "raw_intensity.annotations.rename( {\"1\": \"Baseline\",\n",
    "                                    \"2\": \"M1\",\n",
    "                                    \"3\": \"M2\",\n",
    "                                    \"4\": \"M3\",\n",
    "                                    \"5\": \"M4\",\n",
    "                                    \"8\": \"init\",\n",
    "                                    \"9\": \"end\"} \n",
    "                                )\n"
   ]
  },
  {
   "cell_type": "code",
   "execution_count": 7,
   "metadata": {},
   "outputs": [
    {
     "data": {
      "text/plain": [
       "OrderedDict([('onset', 181.25824),\n",
       "             ('duration', 7.5),\n",
       "             ('description', 'end'),\n",
       "             ('orig_time',\n",
       "              datetime.datetime(2024, 5, 2, 12, 45, 19, tzinfo=datetime.timezone.utc))])"
      ]
     },
     "execution_count": 7,
     "metadata": {},
     "output_type": "execute_result"
    }
   ],
   "source": [
    "raw_intensity.annotations[-1]"
   ]
  },
  {
   "cell_type": "markdown",
   "metadata": {},
   "source": [
    "**Crop data considering begin and end triggers.**\n",
    "\n",
    "Get onset for the trigger init and end. Crop data on these markers. Remove annotations outside this period from the data structure.\n"
   ]
  },
  {
   "cell_type": "code",
   "execution_count": 8,
   "metadata": {},
   "outputs": [
    {
     "name": "stdout",
     "output_type": "stream",
     "text": [
      "2024-05-02 12:45:19+00:00 [2.06336] [181.25824]\n",
      "[179.19488]\n",
      "[2.98658133]\n"
     ]
    }
   ],
   "source": [
    "# Trim Data\n",
    "# from trigger 8 to trigger 9 \n",
    "tmin = raw_intensity.annotations[raw_intensity.annotations.description == \"init\"].onset\n",
    "\n",
    "\n",
    "tmax = raw_intensity.annotations[raw_intensity.annotations.description == \"end\"].onset\n",
    "\n",
    "timeatorigin = raw_intensity.annotations.orig_time\n",
    "\n",
    "print(timeatorigin, tmin, tmax)\n",
    "\n",
    "dur = tmax-tmin\n",
    "print (dur)\n",
    "\n",
    "duration_min=dur/60\n",
    "print (duration_min)\n"
   ]
  },
  {
   "cell_type": "code",
   "execution_count": 9,
   "metadata": {},
   "outputs": [],
   "source": [
    "# import datetime \n",
    "\n",
    "# deltamin = datetime.timedelta(seconds=tmin[0] + 1)   \n",
    "# deltamax = datetime.timedelta(seconds=tmax[0] + 1) \n",
    "\n",
    "# annots = raw_intensity.annotations.crop( timeatorigin + deltamin, timeatorigin + deltamax, use_orig_time=False )\n"
   ]
  },
  {
   "cell_type": "code",
   "execution_count": 10,
   "metadata": {},
   "outputs": [],
   "source": [
    "# Remove annotations outside of the trimmed data\n",
    "raw_intensity.annotations.delete(raw_intensity.annotations.onset <= tmin[0])\n",
    "raw_intensity.annotations.delete(raw_intensity.annotations.onset >= tmax[0])"
   ]
  },
  {
   "cell_type": "code",
   "execution_count": 11,
   "metadata": {},
   "outputs": [
    {
     "data": {
      "text/html": [
       "<details open>\n",
       "    <summary><strong>General</strong></summary>\n",
       "    <table class=\"table table-hover table-striped table-sm table-responsive small\">\n",
       "        <tr>\n",
       "            <th>Measurement date</th>\n",
       "            \n",
       "            <td>May 02, 2024  12:45:19 GMT</td>\n",
       "            \n",
       "        </tr>\n",
       "        <tr>\n",
       "            <th>Experimenter</th>\n",
       "            \n",
       "            <td>Unknown</td>\n",
       "            \n",
       "        </tr>\n",
       "        <tr>\n",
       "            <th>Participant</th>\n",
       "            \n",
       "            \n",
       "            <td></td>\n",
       "            \n",
       "            \n",
       "        </tr>\n",
       "    </table>\n",
       "    </details>\n",
       "    <details open>\n",
       "        <summary><strong>Channels</strong></summary>\n",
       "        <table class=\"table table-hover table-striped table-sm table-responsive small\">\n",
       "            <tr>\n",
       "                <th>Digitized points</th>\n",
       "                \n",
       "                <td>300 points</td>\n",
       "                \n",
       "            </tr>\n",
       "            <tr>\n",
       "                <th>Good channels</th>\n",
       "                <td>268 fNIRS (CW amplitude)</td>\n",
       "            </tr>\n",
       "            <tr>\n",
       "                <th>Bad channels</th>\n",
       "                <td>None</td>\n",
       "            </tr>\n",
       "            <tr>\n",
       "                <th>EOG channels</th>\n",
       "                <td>Not available</td>\n",
       "            </tr>\n",
       "            <tr>\n",
       "                <th>ECG channels</th>\n",
       "                <td>Not available</td>\n",
       "            </tr>\n",
       "        </table>\n",
       "        </details>\n",
       "        <details open>\n",
       "            <summary><strong>Data</strong></summary>\n",
       "            <table class=\"table table-hover table-striped table-sm table-responsive small\">\n",
       "                \n",
       "                <tr>\n",
       "                    <th>Sampling frequency</th>\n",
       "                    <td>12.59 Hz</td>\n",
       "                </tr>\n",
       "                \n",
       "                \n",
       "                <tr>\n",
       "                    <th>Highpass</th>\n",
       "                    <td>0.00 Hz</td>\n",
       "                </tr>\n",
       "                \n",
       "                \n",
       "                <tr>\n",
       "                    <th>Lowpass</th>\n",
       "                    <td>6.30 Hz</td>\n",
       "                </tr>\n",
       "                \n",
       "                \n",
       "                \n",
       "                <tr>\n",
       "                    <th>Filenames</th>\n",
       "                    <td>sub-S01_task-music_run-1.snirf</td>\n",
       "                </tr>\n",
       "                \n",
       "                \n",
       "                <tr>\n",
       "                    <th>Duration</th>\n",
       "                    <td>00:02:60 (HH:MM:SS)</td>\n",
       "                </tr>\n",
       "                \n",
       "            </table>\n",
       "            </details>"
      ],
      "text/plain": [
       "<RawSNIRF | sub-S01_task-music_run-1.snirf, 268 x 2258 (179.2 s), ~4.9 MB, data loaded>"
      ]
     },
     "execution_count": 11,
     "metadata": {},
     "output_type": "execute_result"
    }
   ],
   "source": [
    "raw_intensity.crop( tmin[0], tmax[0] )\n",
    "\n"
   ]
  },
  {
   "cell_type": "markdown",
   "metadata": {},
   "source": [
    "# 2. Conversion from CW to haemoglobin data."
   ]
  },
  {
   "cell_type": "code",
   "execution_count": 12,
   "metadata": {},
   "outputs": [],
   "source": [
    "# Convert NIRS raw data to optical density.\n",
    "raw_od = mne.preprocessing.nirs.optical_density(raw_intensity)\n"
   ]
  },
  {
   "cell_type": "code",
   "execution_count": 13,
   "metadata": {},
   "outputs": [
    {
     "data": {
      "text/plain": [
       "[Text(0.5, 0, 'Scalp Coupling Index'), Text(0, 0.5, 'Count'), (0.0, 1.0)]"
      ]
     },
     "execution_count": 13,
     "metadata": {},
     "output_type": "execute_result"
    },
    {
     "data": {
      "image/png": "iVBORw0KGgoAAAANSUhEUgAAAkYAAAGwCAYAAABM/qr1AAAAOXRFWHRTb2Z0d2FyZQBNYXRwbG90bGliIHZlcnNpb24zLjguNCwgaHR0cHM6Ly9tYXRwbG90bGliLm9yZy8fJSN1AAAACXBIWXMAAA9hAAAPYQGoP6dpAAApa0lEQVR4nO3de1TVdb7/8ddWEBGF8colEbAwJS+Zd5q8C+GoOTZLJ8vRs9RwygupR2Ws1MbRky0vZ/LSTMfUStMu6nEmLcmSVKxRirxOWuFJUyIRuRiBwuf3x3zcv9mhJrRhAz4fa+213N/92Xu/N990P/vuL+AwxhgBAABAtTw9AAAAQFVBGAEAAFiEEQAAgEUYAQAAWIQRAACARRgBAABYhBEAAIDl5ekBqoKSkhKdPXtWDRo0kMPh8PQ4AADgJhhjlJeXp5CQENWq5Z5jPYSRpLNnzyo0NNTTYwAAgHI4ffq0mjdv7pbHIowkNWjQQNK/vrD+/v4engYAANyM3NxchYaGOt/H3YEwkpwfn/n7+xNGAABUM+48DYaTrwEAACzCCAAAwCKMAAAALMIIAADAIowAAAAswggAAMAijAAAACzCCAAAwCKMAAAALMIIAADAIowAAAAswggAAMAijAAAACzCCAAAwCKMAAAALC9PDwAAAMonfNbbnh7Bo0oKv3f7Y3LECAAAwCKMAAAALMIIAADAIowAAAAswggAAMAijAAAACzCCAAAwCKMAAAALMIIAADAIowAAAAswggAAMAijAAAACzCCAAAwCKMAAAALMIIAADAIowAAAAswggAAMAijAAAACzCCAAAwCKMAAAALMIIAADAIowAAAAswggAAMAijAAAACzCCAAAwCKMAAAALMIIAADAIowAAAAswggAAMAijAAAACzCCAAAwCKMAAAALMIIAADA8mgYLVy4UF26dFGDBg3UrFkzDR06VJ9//rnLGmOM5s6dq5CQEPn6+qp37946evSoy5rCwkJNmjRJTZo0kZ+fn4YMGaIzZ85U5ksBAAA1gEfDKDk5WY8//rg++ugjJSUl6cqVK4qJidGlS5ecaxYtWqQlS5Zo+fLlOnDggIKCgjRgwADl5eU51yQkJGjLli3auHGj9u7dq/z8fA0aNEjFxcWeeFkAAKCachhjjKeHuOq7775Ts2bNlJycrJ49e8oYo5CQECUkJGjmzJmS/nV0KDAwUM8++6zi4+OVk5Ojpk2b6pVXXtGIESMkSWfPnlVoaKi2b9+u2NjYUs9TWFiowsJC5/Xc3FyFhoYqJydH/v7+lfNiAQD4mcJnve3pETyqpPB7nV423K3v31XqHKOcnBxJUqNGjSRJ6enpysjIUExMjHONj4+PevXqpZSUFElSamqqLl++7LImJCREbdu2da75sYULFyogIMB5CQ0NraiXBAAAqpEqE0bGGE2dOlW//OUv1bZtW0lSRkaGJCkwMNBlbWBgoPO2jIwM1alTRw0bNrzumh9LTExUTk6O83L69Gl3vxwAAFANeXl6gKsmTpyoQ4cOae/evaVuczgcLteNMaW2/diN1vj4+MjHx6f8wwIAgBqpShwxmjRpkrZt26YPPvhAzZs3d24PCgqSpFJHfjIzM51HkYKCglRUVKTs7OzrrgEAALgZHg0jY4wmTpyozZs36/3331dERITL7REREQoKClJSUpJzW1FRkZKTkxUdHS1J6tSpk7y9vV3WnDt3TkeOHHGuAQAAuBke/Sjt8ccf14YNG/S///u/atCggfPIUEBAgHx9feVwOJSQkKAFCxYoMjJSkZGRWrBggerVq6eRI0c6144dO1bTpk1T48aN1ahRI02fPl3t2rVT//79PfnyAABANePRMFq1apUkqXfv3i7b16xZozFjxkiSZsyYoYKCAj322GPKzs5Wt27dtHPnTjVo0MC5funSpfLy8tLw4cNVUFCgfv36ae3atapdu3ZlvRQAAFADVKmfY+Qpubm5CggI4OcYAQCqFX6OUQ3/OUYAAACeRBgBAABYhBEAAIBFGAEAAFiEEQAAgEUYAQAAWIQRAACARRgBAABYhBEAAIBFGAEAAFiEEQAAgEUYAQAAWIQRAACARRgBAABYhBEAAIBFGAEAAFiEEQAAgEUYAQAAWIQRAACARRgBAABYhBEAAIBFGAEAAFiEEQAAgEUYAQAAWIQRAACARRgBAABYhBEAAIBFGAEAAFiEEQAAgEUYAQAAWIQRAACARRgBAABYhBEAAIBFGAEAAFiEEQAAgEUYAQAAWIQRAACARRgBAABYhBEAAIBFGAEAAFiEEQAAgEUYAQAAWIQRAACARRgBAABYhBEAAIBFGAEAAFiEEQAAgEUYAQAAWIQRAACARRgBAABYhBEAAIBFGAEAAFiEEQAAgEUYAQAAWIQRAACARRgBAABYhBEAAIBFGAEAAFiEEQAAgEUYAQAAWIQRAACARRgBAABYhBEAAIBFGAEAAFiEEQAAgEUYAQAAWIQRAACA5dEw+vDDDzV48GCFhITI4XBo69atLrePGTNGDofD5dK9e3eXNYWFhZo0aZKaNGkiPz8/DRkyRGfOnKnEVwEAAGoKj4bRpUuX1KFDBy1fvvy6a+6//36dO3fOedm+fbvL7QkJCdqyZYs2btyovXv3Kj8/X4MGDVJxcXFFjw8AAGoYL08+eVxcnOLi4m64xsfHR0FBQde8LScnR6tXr9Yrr7yi/v37S5JeffVVhYaG6r333lNsbKzbZwYAADVXlT/HaPfu3WrWrJlatWql8ePHKzMz03lbamqqLl++rJiYGOe2kJAQtW3bVikpKdd9zMLCQuXm5rpcAAAAqnQYxcXFaf369Xr//fe1ePFiHThwQH379lVhYaEkKSMjQ3Xq1FHDhg1d7hcYGKiMjIzrPu7ChQsVEBDgvISGhlbo6wAAANWDRz9K+ykjRoxw/rlt27bq3LmzwsLC9Pbbb2vYsGHXvZ8xRg6H47q3JyYmaurUqc7rubm5xBEAAKjaR4x+LDg4WGFhYTp58qQkKSgoSEVFRcrOznZZl5mZqcDAwOs+jo+Pj/z9/V0uAAAA1SqMsrKydPr0aQUHB0uSOnXqJG9vbyUlJTnXnDt3TkeOHFF0dLSnxgQAANWURz9Ky8/P1xdffOG8np6errS0NDVq1EiNGjXS3Llz9eCDDyo4OFinTp3SH/7wBzVp0kS//vWvJUkBAQEaO3aspk2bpsaNG6tRo0aaPn262rVr5/wuNQAAgJvl0TA6ePCg+vTp47x+9byf0aNHa9WqVTp8+LBefvllXbx4UcHBwerTp482bdqkBg0aOO+zdOlSeXl5afjw4SooKFC/fv20du1a1a5du9JfDwAAqN4cxhjj6SE8LTc3VwEBAcrJyeF8IwBAtRE+621Pj+BRJYXf6/Sy4W59/65W5xgBAABUJMIIAADAIowAAAAswggAAMAijAAAACzCCAAAwCKMAAAALMIIAADAIowAAAAswggAAMAijAAAACzCCAAAwCKMAAAALMIIAADAIowAAAAswggAAMAijAAAACzCCAAAwCKMAAAALMIIAADAIowAAAAswggAAMAijAAAACzCCAAAwCKMAAAALMIIAADAKlcYtWzZUllZWaW2X7x4US1btvzZQwEAAHhCucLo1KlTKi4uLrW9sLBQ33zzzc8eCgAAwBO8yrJ427Ztzj+/++67CggIcF4vLi7Wrl27FB4e7rbhAAAAKlOZwmjo0KGSJIfDodGjR7vc5u3trfDwcC1evNhtwwEAAFSmMoVRSUmJJCkiIkIHDhxQkyZNKmQoAAAATyhTGF2Vnp7u7jkAAAA8rlxhJEm7du3Srl27lJmZ6TySdNVLL730swcDAACobOUKo3nz5umZZ55R586dFRwcLIfD4e65AAAAKl25wuiFF17Q2rVrNWrUKHfPAwAA4DHl+jlGRUVFio6OdvcsAAAAHlWuMBo3bpw2bNjg7lkAAAA8qlwfpf3www/661//qvfee0/t27eXt7e3y+1Llixxy3AAAACVqVxhdOjQId19992SpCNHjrjcxonYAACguipXGH3wwQfungMAAMDjynWOEQAAQE1UriNGffr0ueFHZu+//365BwIAAPCUcoXR1fOLrrp8+bLS0tJ05MiRUr9cFgAAoLooVxgtXbr0mtvnzp2r/Pz8nzUQAACAp7j1HKNHHnmE35MGAACqLbeG0f79+1W3bl13PiQAAEClKddHacOGDXO5bozRuXPndPDgQT311FNuGQwAAKCylSuMAgICXK7XqlVLd955p5555hnFxMS4ZTAAAIDKVq4wWrNmjbvnAAAA8LhyhdFVqampOn78uBwOh6KiotSxY0d3zQUAAFDpyhVGmZmZ+u1vf6vdu3frF7/4hYwxysnJUZ8+fbRx40Y1bdrU3XMCAABUuHJ9V9qkSZOUm5uro0eP6sKFC8rOztaRI0eUm5uryZMnu3tGAACASlGuI0bvvPOO3nvvPbVp08a5LSoqSitWrODkawAAUG2V64hRSUmJvL29S2339vZWSUnJzx4KAADAE8oVRn379tWUKVN09uxZ57ZvvvlGTzzxhPr16+e24QAAACpTucJo+fLlysvLU3h4uG6//XbdcccdioiIUF5enp5//nl3zwgAAFApynWOUWhoqD755BMlJSXpn//8p4wxioqKUv/+/d09HwAAQKUp0xGj999/X1FRUcrNzZUkDRgwQJMmTdLkyZPVpUsX3XXXXdqzZ0+FDAoAAFDRyhRGy5Yt0/jx4+Xv71/qtoCAAMXHx2vJkiVuGw4AAKAylSmMPvvsM91///3XvT0mJkapqak/eygAAABPKFMYffvtt9f8Nv2rvLy89N133/3soQAAADyhTGF022236fDhw9e9/dChQwoODv7ZQwEAAHhCmcJo4MCBevrpp/XDDz+Uuq2goEBz5szRoEGD3DYcAABAZSrTt+s/+eST2rx5s1q1aqWJEyfqzjvvlMPh0PHjx7VixQoVFxdr9uzZFTUrAABAhSpTGAUGBiolJUW///3vlZiYKGOMJMnhcCg2NlYrV65UYGBghQwKAABQ0cr8Ax7DwsK0fft2ZWdn64svvpAxRpGRkWrYsGFFzAcAAFBpyvWTryWpYcOG6tKliztnAQAA8Khy/a40AACAmsijYfThhx9q8ODBCgkJkcPh0NatW11uN8Zo7ty5CgkJka+vr3r37q2jR4+6rCksLNSkSZPUpEkT+fn5aciQITpz5kwlvgoAAFBTeDSMLl26pA4dOmj58uXXvH3RokVasmSJli9frgMHDigoKEgDBgxQXl6ec01CQoK2bNmijRs3au/evcrPz9egQYNUXFxcWS8DAADUEOU+x8gd4uLiFBcXd83bjDFatmyZZs+erWHDhkmS1q1bp8DAQG3YsEHx8fHKycnR6tWr9corr6h///6SpFdffVWhoaF67733FBsbW2mvBQAAVH9V9hyj9PR0ZWRkKCYmxrnNx8dHvXr1UkpKiiQpNTVVly9fdlkTEhKitm3bOtdcS2FhoXJzc10uAAAAVTaMMjIyJKnUz0UKDAx03paRkaE6deqU+lEB/77mWhYuXKiAgADnJTQ01M3TAwCA6qjKhtFVDofD5boxptS2H/upNYmJicrJyXFeTp8+7ZZZAQBA9VZlwygoKEiSSh35yczMdB5FCgoKUlFRkbKzs6+75lp8fHzk7+/vcgEAAKiyYRQREaGgoCAlJSU5txUVFSk5OVnR0dGSpE6dOsnb29tlzblz53TkyBHnGgAAgJvl0e9Ky8/P1xdffOG8np6errS0NDVq1EgtWrRQQkKCFixYoMjISEVGRmrBggWqV6+eRo4cKUkKCAjQ2LFjNW3aNDVu3FiNGjXS9OnT1a5dO+d3qQEAANwsj4bRwYMH1adPH+f1qVOnSpJGjx6ttWvXasaMGSooKNBjjz2m7OxsdevWTTt37lSDBg2c91m6dKm8vLw0fPhwFRQUqF+/flq7dq1q165d6a8HAABUbw5jjPH0EJ6Wm5urgIAA5eTkcL4RAKDaCJ/1tqdH8KiSwu91etlwt75/V9lzjAAAACobYQQAAGARRgAAABZhBAAAYBFGAAAAFmEEAABgEUYAAAAWYQQAAGARRgAAABZhBAAAYBFGAAAAFmEEAABgEUYAAAAWYQQAAGARRgAAABZhBAAAYBFGAAAAFmEEAABgEUYAAAAWYQQAAGARRgAAABZhBAAAYBFGAAAAFmEEAABgEUYAAAAWYQQAAGARRgAAABZhBAAAYBFGAAAAFmEEAABgEUYAAAAWYQQAAGARRgAAABZhBAAAYBFGAAAAFmEEAABgEUYAAAAWYQQAAGARRgAAABZhBAAAYBFGAAAAFmEEAABgEUYAAAAWYQQAAGARRgAAABZhBAAAYBFGAAAAFmEEAABgEUYAAAAWYQQAAGARRgAAABZhBAAAYBFGAAAAFmEEAABgEUYAAAAWYQQAAGARRgAAABZhBAAAYBFGAAAAFmEEAABgEUYAAAAWYQQAAGARRgAAABZhBAAAYBFGAAAAFmEEAABgEUYAAAAWYQQAAGBV6TCaO3euHA6HyyUoKMh5uzFGc+fOVUhIiHx9fdW7d28dPXrUgxMDAIDqrEqHkSTdddddOnfunPNy+PBh522LFi3SkiVLtHz5ch04cEBBQUEaMGCA8vLyPDgxAACorrw8PcBP8fLycjlKdJUxRsuWLdPs2bM1bNgwSdK6desUGBioDRs2KD4+/rqPWVhYqMLCQuf13Nxc9w8OAACqnSp/xOjkyZMKCQlRRESEfvvb3+qrr76SJKWnpysjI0MxMTHOtT4+PurVq5dSUlJu+JgLFy5UQECA8xIaGlqhrwEAAFQPVTqMunXrppdfflnvvvuuXnzxRWVkZCg6OlpZWVnKyMiQJAUGBrrcJzAw0Hnb9SQmJionJ8d5OX36dIW9BgAAUH1U6Y/S4uLinH9u166devToodtvv13r1q1T9+7dJUkOh8PlPsaYUtt+zMfHRz4+Pu4fGAAAVGtV+ojRj/n5+aldu3Y6efKk87yjHx8dyszMLHUUCQAA4GZUqzAqLCzU8ePHFRwcrIiICAUFBSkpKcl5e1FRkZKTkxUdHe3BKQEAQHVVpT9Kmz59ugYPHqwWLVooMzNT8+fPV25urkaPHi2Hw6GEhAQtWLBAkZGRioyM1IIFC1SvXj2NHDnS06MDAIBqqEqH0ZkzZ/TQQw/p/Pnzatq0qbp3766PPvpIYWFhkqQZM2aooKBAjz32mLKzs9WtWzft3LlTDRo08PDkAACgOnIYY4ynh/C03NxcBQQEKCcnR/7+/p4eBwCAmxI+621Pj+BRJYXf6/Sy4W59/65W5xgBAABUJMIIAADAIowAAAAswggAAMAijAAAACzCCAAAwCKMAAAALMIIAADAIowAAAAswggAAMAijAAAACzCCAAAwCKMAAAALMIIAADAIowAAAAswggAAMAijAAAACzCCAAAwCKMAAAALMIIAADAIowAAAAswggAAMAijAAAACzCCAAAwCKMAAAALMIIAADAIowAAAAswggAAMAijAAAACzCCAAAwCKMAAAALMIIAADAIowAAAAsL08PAABAWYXPetvTI6CG4ogRAACARRgBAABYhBEAAIBFGAEAAFiEEQAAgEUYAQAAWIQRAACARRgBAABYhBEAAIBFGAEAAFiEEQAAgEUYAQAAWIQRAACARRgBAABYhBEAAIBFGAEAAFiEEQAAgEUYAQAAWF6eHgAAUDbhs9729AhAjcURIwAAAIswAgAAsAgjAAAAizACAACwCCMAAACLMAIAALAIIwAAAIswAgAAsAgjAAAAizACAACwCCMAAACLMAIAALAIIwAAAIswAgAAsGpMGK1cuVIRERGqW7euOnXqpD179nh6JAAAUM14eXoAd9i0aZMSEhK0cuVK3XvvvfrLX/6iuLg4HTt2TC1atPD0eHCT8Flve3oEjzv1X7/y9Agex38HACpSjThitGTJEo0dO1bjxo1TmzZttGzZMoWGhmrVqlWeHg0AAFQj1f6IUVFRkVJTUzVr1iyX7TExMUpJSbnmfQoLC1VYWOi8npOTI0nKzc2tuEHxs5UUfu/pETyO/0b57wDA/3f13wNjjNses9qH0fnz51VcXKzAwECX7YGBgcrIyLjmfRYuXKh58+aV2h4aGlohMwLuErDM0xMAQNWTlZWlgIAAtzxWtQ+jqxwOh8t1Y0ypbVclJiZq6tSpzusXL15UWFiYvv76a7d9YVE+ubm5Cg0N1enTp+Xv7+/pcW5p7Iuqhf1RdbAvqo6cnBy1aNFCjRo1cttjVvswatKkiWrXrl3q6FBmZmapo0hX+fj4yMfHp9T2gIAA/iOvIvz9/dkXVQT7omphf1Qd7Iuqo1Yt950yXe1Pvq5Tp446deqkpKQkl+1JSUmKjo720FQAAKA6qvZHjCRp6tSpGjVqlDp37qwePXror3/9q77++mtNmDDB06MBAIBqpEaE0YgRI5SVlaVnnnlG586dU9u2bbV9+3aFhYXd1P19fHw0Z86ca368hsrFvqg62BdVC/uj6mBfVB0VsS8cxp3f4wYAAFCNVftzjAAAANyFMAIAALAIIwAAAIswAgAAsG6ZMFq5cqUiIiJUt25dderUSXv27Lnh+uTkZHXq1El169ZVy5Yt9cILL1TSpDVfWfbF5s2bNWDAADVt2lT+/v7q0aOH3n333UqctmYr69+Lq/bt2ycvLy/dfffdFTvgLaSs+6KwsFCzZ89WWFiYfHx8dPvtt+ull16qpGlrvrLuj/Xr16tDhw6qV6+egoOD9R//8R/KysqqpGlrpg8//FCDBw9WSEiIHA6Htm7d+pP3cct7t7kFbNy40Xh7e5sXX3zRHDt2zEyZMsX4+fmZ//u//7vm+q+++srUq1fPTJkyxRw7dsy8+OKLxtvb27z55puVPHnNU9Z9MWXKFPPss8+af/zjH+bEiRMmMTHReHt7m08++aSSJ695yrovrrp48aJp2bKliYmJMR06dKicYWu48uyLIUOGmG7dupmkpCSTnp5uPv74Y7Nv375KnLrmKuv+2LNnj6lVq5b57//+b/PVV1+ZPXv2mLvuussMHTq0kievWbZv325mz55t3nrrLSPJbNmy5Ybr3fXefUuEUdeuXc2ECRNctrVu3drMmjXrmutnzJhhWrdu7bItPj7edO/evcJmvFWUdV9cS1RUlJk3b567R7vllHdfjBgxwjz55JNmzpw5hJGblHVf7NixwwQEBJisrKzKGO+WU9b98dxzz5mWLVu6bPvzn/9smjdvXmEz3mpuJozc9d5d4z9KKyoqUmpqqmJiYly2x8TEKCUl5Zr32b9/f6n1sbGxOnjwoC5fvlxhs9Z05dkXP1ZSUqK8vDy3/sLAW1F598WaNWv05Zdfas6cORU94i2jPPti27Zt6ty5sxYtWqTbbrtNrVq10vTp01VQUFAZI9do5dkf0dHROnPmjLZv3y5jjL799lu9+eab+tWvflUZI8Ny13t3jfjJ1zdy/vx5FRcXl/qFsoGBgaV+8exVGRkZ11x/5coVnT9/XsHBwRU2b01Wnn3xY4sXL9alS5c0fPjwihjxllGefXHy5EnNmjVLe/bskZdXjf+no9KUZ1989dVX2rt3r+rWrastW7bo/Pnzeuyxx3ThwgXOM/qZyrM/oqOjtX79eo0YMUI//PCDrly5oiFDhuj555+vjJFhueu9u8YfMbrK4XC4XDfGlNr2U+uvtR1lV9Z9cdVrr72muXPnatOmTWrWrFlFjXdLudl9UVxcrJEjR2revHlq1apVZY13SynL34uSkhI5HA6tX79eXbt21cCBA7VkyRKtXbuWo0ZuUpb9cezYMU2ePFlPP/20UlNT9c477yg9PZ3f1+kB7njvrvH/29ekSRPVrl27VOlnZmaWKsurgoKCrrney8tLjRs3rrBZa7ry7IurNm3apLFjx+qNN95Q//79K3LMW0JZ90VeXp4OHjyoTz/9VBMnTpT0rzdnY4y8vLy0c+dO9e3bt1Jmr2nK8/ciODhYt912mwICApzb2rRpI2OMzpw5o8jIyAqduSYrz/5YuHCh7r33Xv3nf/6nJKl9+/by8/PTfffdp/nz5/MpQyVx13t3jT9iVKdOHXXq1ElJSUku25OSkhQdHX3N+/To0aPU+p07d6pz587y9vausFlruvLsC+lfR4rGjBmjDRs28Jm9m5R1X/j7++vw4cNKS0tzXiZMmKA777xTaWlp6tatW2WNXuOU5+/Fvffeq7Nnzyo/P9+57cSJE6pVq5aaN29eofPWdOXZH99//71q1XJ9O61du7ak/3/EAhXPbe/dZTpVu5q6+q2Xq1evNseOHTMJCQnGz8/PnDp1yhhjzKxZs8yoUaOc669+y98TTzxhjh07ZlavXs2367tJWffFhg0bjJeXl1mxYoU5d+6c83Lx4kVPvYQao6z74sf4rjT3Keu+yMvLM82bNze/+c1vzNGjR01ycrKJjIw048aN89RLqFHKuj/WrFljvLy8zMqVK82XX35p9u7dazp37my6du3qqZdQI+Tl5ZlPP/3UfPrpp0aSWbJkifn000+dPzahot67b4kwMsaYFStWmLCwMFOnTh1zzz33mOTkZOdto0ePNr169XJZv3v3btOxY0dTp04dEx4eblatWlXJE9dcZdkXvXr1MpJKXUaPHl35g9dAZf178e8II/cq6744fvy46d+/v/H19TXNmzc3U6dONd9//30lT11zlXV//PnPfzZRUVHG19fXBAcHm4cffticOXOmkqeuWT744IMb/vtfUe/dDmM4zgcAACDdAucYAQAA3CzCCAAAwCKMAAAALMIIAADAIowAAAAswggAAMAijAAAACzCCAAAwCKMANyU3r17KyEhwdNjuNWPX1N4eLiWLVvmsXnKYvfu3XI4HLp48aKnRwFqFMIIqAEyMzMVHx+vFi1ayMfHR0FBQYqNjdX+/fs9PVopubm5mj17tlq3bq26desqKChI/fv31+bNmz3+CzcPHDigRx99tMKfpzoFGHCr8fL0AAB+vgcffFCXL1/WunXr1LJlS3377bfatWuXLly44OnRXFy8eFG//OUvlZOTo/nz56tLly7y8vJScnKyZsyYob59++oXv/iFx+Zr2rSpx54bQNXAESOgmrt48aL27t2rZ599Vn369FFYWJi6du2qxMRE/epXv3JZ9+ijjyowMFB169ZV27Zt9fe//12SlJWVpYceekjNmzdXvXr11K5dO7322ms3fN7w8HD98Y9/1MiRI1W/fn2FhITo+eefv+F9/vCHP+jUqVP6+OOPNXr0aEVFRalVq1YaP3680tLSVL9+fUlSdna2fve736lhw4aqV6+e4uLidPLkSefjzJ07V3fffbfLYy9btkzh4eHO62PGjNHQoUM1b948NWvWTP7+/oqPj1dRUdENX9O/H8lxOBz6n//5H/36179WvXr1FBkZqW3btrncZ9u2bYqMjJSvr6/69OmjdevWlfkjrpt5nu3bt6tVq1bO5zl16lSpx0lJSVHPnj3l6+ur0NBQTZ48WZcuXZIkvfzyy6pfv77L13HSpElq1aqVcw0Awgio9urXr6/69etr69atKiwsvOaakpISxcXFKSUlRa+++qqOHTum//qv/1Lt2rUlST/88IM6deqkv//97zpy5IgeffRRjRo1Sh9//PENn/u5555T+/bt9cknnygxMVFPPPGEkpKSrjvDxo0b9fDDDyskJOSar8PL618HsceMGaODBw9q27Zt2r9/v4wxGjhwoC5fvlyWL4127dql48eP64MPPtBrr72mLVu2aN68eWV6jHnz5mn48OE6dOiQBg4cqIcffth5JO7UqVP6zW9+o6FDhyotLU3x8fGaPXt2mR7/Zp7n9OnTGjZsmAYOHKi0tDSNGzdOs2bNcrn/4cOHFRsbq2HDhunQoUPatGmT9u7dq4kTJ0qSfve73zkf98qVK3rnnXf0l7/8RevXr5efn1+5ZgZqJAOg2nvzzTdNw4YNTd26dU10dLRJTEw0n332mfP2d99919SqVct8/vnnN/2YAwcONNOmTXNe79Wrl5kyZYrzelhYmLn//vtd7jNixAgTFxd3zcf79ttvjSSzZMmSGz7viRMnjCSzb98+57bz588bX19f8/rrrxtjjJkzZ47p0KGDy/2WLl1qwsLCnNdHjx5tGjVqZC5duuTctmrVKlO/fn1TXFx83de0dOlS53VJ5sknn3Rez8/PNw6Hw+zYscMYY8zMmTNN27ZtXeaYPXu2kWSys7Ov+xrL+jyJiYmmTZs2pqSkxLlm5syZLs8zatQo8+ijj7o8z549e0ytWrVMQUGBMcaYCxcumObNm5vf//73JjAw0MyfP/+6MwK3Ko4YATXAgw8+qLNnz2rbtm2KjY3V7t27dc8992jt2rWSpLS0NDVv3lytWrW65v2Li4v1pz/9Se3bt1fjxo1Vv3597dy5U19//fUNn7dHjx6lrh8/fvyaa409sdrhcNzwMY8fPy4vLy9169bNua1x48a68847r/vY19OhQwfVq1fPZb78/HydPn36ph+jffv2zj/7+fmpQYMGyszMlCR9/vnn6tKli8v6rl27lmnGm3me48ePq3v37i5fux9/7VNTU7V27VrnEcT69esrNjZWJSUlSk9PlyQ1bNhQq1ev1qpVq3T77beXOuoEgJOvgRqjbt26GjBggAYMGKCnn35a48aN05w5czRmzBj5+vre8L6LFy/W0qVLtWzZMrVr105+fn5KSEi44fk413O98GnatKkaNmz4k3FjrvOdacYY52PXqlWr1LqyfMz2U3H277y9vUvdt6SkpNRM/z5nefzU8/yUkpISxcfHa/LkyaVua9GihfPPH374oWrXrq2zZ8/q0qVL8vf3L9e8QE3FESOghoqKinKeVNu+fXudOXNGJ06cuObaPXv26IEHHtAjjzyiDh06qGXLli4n6V7PRx99VOp669atr7m2Vq1aGjFihNavX6+zZ8+Wuv3SpUu6cuWKoqKidOXKFZfzm7KysnTixAm1adNG0r8iKyMjwyUY0tLSSj3mZ599poKCApf56tevr+bNm//ka7sZrVu31oEDB1y2HTx40C2P/e+ioqKu+bX+d/fcc4+OHj2qO+64o9SlTp06kv51cvaiRYv0t7/9Tf7+/po0aZLbZwWqO8IIqOaysrLUt29fvfrqqzp06JDS09P1xhtvaNGiRXrggQckSb169VLPnj314IMPKikpSenp6dqxY4feeecdSdIdd9yhpKQkpaSk6Pjx44qPj1dGRsZPPve+ffu0aNEinThxQitWrNAbb7yhKVOmXHf9ggULFBoaqm7duunll1/WsWPHdPLkSb300ku6++67lZ+fr8jISD3wwAMaP3689u7dq88++0yPPPKIbrvtNufr6d27t7777jstWrRIX375pVasWKEdO3aUer6ioiKNHTtWx44d044dOzRnzhxNnDhRtWq555+++Ph4/fOf/9TMmTN14sQJvf76686PL8tyVOqnTJgwQV9++aWmTp2qzz//XBs2bHA+z1UzZ87U/v379fjjjystLU0nT57Utm3bnPGTl5enUaNGadKkSYqLi9OGDRv0+uuv64033nDbnEBNQBgB1Vz9+vXVrVs3LV26VD179lTbtm311FNPafz48Vq+fLlz3VtvvaUuXbrooYceUlRUlGbMmKHi4mJJ0lNPPaV77rlHsbGx6t27t4KCgjR06NCffO5p06YpNTVVHTt21B//+EctXrxYsbGx113fsGFDffTRR3rkkUc0f/58dezYUffdd59ee+01PffccwoICJAkrVmzRp06ddKgQYPUo0cPGWO0fft258dNbdq00cqVK7VixQp16NBB//jHPzR9+vRSz9evXz9FRkaqZ8+eGj58uAYPHqy5c+eW4at7YxEREXrzzTe1efNmtW/fXqtWrXJ+V5qPj4/bnqdFixZ666239Le//U0dOnTQCy+8oAULFrisad++vZKTk3Xy5Endd9996tixo5566ikFBwdLkqZMmSI/Pz/n/e666y49++yzmjBhgr755hu3zQpUdw5T3g/EAdzSwsPDlZCQUGV/TciYMWN08eJFbd26tVKf909/+pNeeOGFMp3gDaDq4ORrAPgZVq5cqS5duqhx48bat2+fnnvuOefPDgJQ/RBGAPAznDx5UvPnz9eFCxfUokULTZs2TYmJiZ4eC0A58VEaAACAxcnXAAAAFmEEAABgEUYAAAAWYQQAAGARRgAAABZhBAAAYBFGAAAAFmEEAABg/T9ClbHTckeAkgAAAABJRU5ErkJggg==",
      "text/plain": [
       "<Figure size 640x480 with 1 Axes>"
      ]
     },
     "metadata": {},
     "output_type": "display_data"
    }
   ],
   "source": [
    "# TODO: https://mne.tools/mne-nirs/stable/auto_examples/general/plot_22_quality.html\n",
    "\n",
    "sci = mne.preprocessing.nirs.scalp_coupling_index(raw_od)\n",
    "fig, ax = plt.subplots()\n",
    "ax.hist(sci)\n",
    "ax.set(xlabel='Scalp Coupling Index', ylabel='Count', xlim=[0, 1])"
   ]
  },
  {
   "cell_type": "markdown",
   "metadata": {},
   "source": [
    "We can mark these as bad in the MNE data. This way the functions downstream will know that the data in these channels is bad. For this example we set the threshold for a bad channel to be SCI < 0.7. We then print a list of the bad channels."
   ]
  },
  {
   "cell_type": "code",
   "execution_count": 14,
   "metadata": {},
   "outputs": [
    {
     "name": "stdout",
     "output_type": "stream",
     "text": [
      "['S7_D5 760', 'S27_D5 760', 'S7_D5 850', 'S27_D5 850']\n"
     ]
    },
    {
     "data": {
      "image/png": "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",
      "text/plain": [
       "<Figure size 640x640 with 1 Axes>"
      ]
     },
     "metadata": {},
     "output_type": "display_data"
    }
   ],
   "source": [
    "# Select raw_od channels with sci < 0.7\n",
    "\n",
    "from itertools import compress\n",
    "\n",
    "\n",
    "raw_od.info['bads'] = list(compress(raw_od.ch_names, sci < 0.0))\n",
    "print(raw_od.info['bads'])\n",
    "\n",
    "raw_od.plot_sensors();"
   ]
  },
  {
   "cell_type": "markdown",
   "metadata": {},
   "source": [
    "### Temporal Derivative Distribution Repair (TDDR)\n",
    "TDDR was initially designed to be used on optical density fNIRS data but has been enabled to be applied on hemoglobin concentration fNIRS data as well in MNE. We recommend applying the algorithm to optical density fNIRS data as intended by the original author wherever possible.\n",
    "\n",
    "There is a shorter alias mne.preprocessing.nirs.tddr that can be used instead of this function (e.g. if line length is an issue)."
   ]
  },
  {
   "cell_type": "code",
   "execution_count": 15,
   "metadata": {},
   "outputs": [],
   "source": [
    "raw_tddr_od = mne.preprocessing.nirs.tddr(raw_od)\n"
   ]
  },
  {
   "cell_type": "code",
   "execution_count": 16,
   "metadata": {},
   "outputs": [],
   "source": [
    "\n",
    "# Convert optical density data to haemoglobin data (ppf - The partial pathlength factor).\n",
    "raw_haemo = mne.preprocessing.nirs.beer_lambert_law(raw_tddr_od, ppf=6.0)\n"
   ]
  },
  {
   "cell_type": "markdown",
   "metadata": {},
   "source": [
    "## 2.1 Preprocessing"
   ]
  },
  {
   "cell_type": "code",
   "execution_count": 17,
   "metadata": {},
   "outputs": [
    {
     "name": "stdout",
     "output_type": "stream",
     "text": [
      "Filtering raw data in 1 contiguous segment\n",
      "Setting up low-pass filter at 0.5 Hz\n",
      "\n",
      "FIR filter parameters\n",
      "---------------------\n",
      "Designing a one-pass, zero-phase, non-causal lowpass filter:\n",
      "- Windowed time-domain design (firwin) method\n",
      "- Hamming window with 0.0194 passband ripple and 53 dB stopband attenuation\n",
      "- Upper passband edge: 0.50 Hz\n",
      "- Upper transition bandwidth: 0.50 Hz (-6 dB cutoff frequency: 0.75 Hz)\n",
      "- Filter length: 85 samples (6.749 s)\n",
      "\n"
     ]
    },
    {
     "name": "stderr",
     "output_type": "stream",
     "text": [
      "[Parallel(n_jobs=1)]: Done  17 tasks      | elapsed:    0.0s\n",
      "[Parallel(n_jobs=1)]: Done  71 tasks      | elapsed:    0.0s\n",
      "[Parallel(n_jobs=1)]: Done 161 tasks      | elapsed:    0.0s\n"
     ]
    }
   ],
   "source": [
    "raw_haemo = raw_haemo.filter(None, \n",
    "                             0.5, \n",
    "                             h_trans_bandwidth=0.5,\n",
    "                             l_trans_bandwidth=0.01)\n"
   ]
  },
  {
   "cell_type": "markdown",
   "metadata": {},
   "source": [
    "## 2.2 Channel selection"
   ]
  },
  {
   "cell_type": "code",
   "execution_count": 18,
   "metadata": {},
   "outputs": [],
   "source": [
    "# Return channels with a long source detector separation.\n",
    "short_haemo = mne_nirs.channels.get_short_channels(raw_haemo, max_dist=0.01)\n",
    "\n",
    "# Return channels with a long source detector separation.\n",
    "long_haemo = mne_nirs.channels.get_long_channels(raw_haemo)"
   ]
  },
  {
   "cell_type": "code",
   "execution_count": 19,
   "metadata": {},
   "outputs": [
    {
     "name": "stdout",
     "output_type": "stream",
     "text": [
      "['S1_D1 hbo', 'S1_D2 hbo', 'S1_D28 hbo', 'S2_D1 hbo', 'S2_D2 hbo', 'S2_D4 hbo', 'S3_D1 hbo', 'S3_D4 hbo', 'S4_D2 hbo', 'S4_D3 hbo', 'S4_D5 hbo', 'S4_D26 hbo', 'S5_D3 hbo', 'S5_D4 hbo', 'S5_D6 hbo', 'S6_D4 hbo', 'S7_D3 hbo', 'S7_D5 hbo', 'S7_D6 hbo', 'S7_D7 hbo', 'S8_D4 hbo', 'S8_D6 hbo', 'S8_D8 hbo', 'S9_D5 hbo', 'S9_D7 hbo', 'S9_D9 hbo', 'S9_D23 hbo', 'S10_D6 hbo', 'S10_D7 hbo', 'S10_D8 hbo', 'S10_D10 hbo', 'S11_D8 hbo', 'S11_D11 hbo', 'S12_D7 hbo', 'S12_D9 hbo', 'S12_D10 hbo', 'S12_D12 hbo', 'S13_D8 hbo', 'S13_D10 hbo', 'S13_D11 hbo', 'S13_D13 hbo', 'S14_D9 hbo', 'S14_D12 hbo', 'S14_D19 hbo', 'S15_D10 hbo', 'S15_D12 hbo', 'S15_D13 hbo', 'S15_D14 hbo', 'S16_D11 hbo', 'S16_D13 hbo', 'S17_D14 hbo', 'S17_D15 hbo', 'S17_D18 hbo', 'S18_D15 hbo', 'S18_D17 hbo', 'S18_D18 hbo', 'S19_D14 hbo', 'S19_D15 hbo', 'S19_D16 hbo', 'S20_D15 hbo', 'S20_D16 hbo', 'S20_D17 hbo', 'S21_D18 hbo', 'S21_D19 hbo', 'S21_D20 hbo', 'S21_D21 hbo', 'S22_D20 hbo', 'S22_D22 hbo', 'S23_D9 hbo', 'S23_D19 hbo', 'S23_D21 hbo', 'S23_D23 hbo', 'S24_D20 hbo', 'S24_D21 hbo', 'S24_D22 hbo', 'S24_D24 hbo', 'S25_D21 hbo', 'S25_D23 hbo', 'S25_D24 hbo', 'S25_D25 hbo', 'S26_D22 hbo', 'S26_D24 hbo', 'S27_D5 hbo', 'S27_D23 hbo', 'S27_D25 hbo', 'S27_D26 hbo', 'S28_D24 hbo', 'S28_D25 hbo', 'S28_D27 hbo', 'S29_D25 hbo', 'S29_D26 hbo', 'S29_D27 hbo', 'S30_D27 hbo', 'S31_D2 hbo', 'S31_D27 hbo', 'S31_D28 hbo', 'S32_D27 hbo', 'S32_D28 hbo', 'S1_D1 hbr', 'S1_D2 hbr', 'S1_D28 hbr', 'S2_D1 hbr', 'S2_D2 hbr', 'S2_D4 hbr', 'S3_D1 hbr', 'S3_D4 hbr', 'S4_D2 hbr', 'S4_D3 hbr', 'S4_D5 hbr', 'S4_D26 hbr', 'S5_D3 hbr', 'S5_D4 hbr', 'S5_D6 hbr', 'S6_D4 hbr', 'S7_D3 hbr', 'S7_D5 hbr', 'S7_D6 hbr', 'S7_D7 hbr', 'S8_D4 hbr', 'S8_D6 hbr', 'S8_D8 hbr', 'S9_D5 hbr', 'S9_D7 hbr', 'S9_D9 hbr', 'S9_D23 hbr', 'S10_D6 hbr', 'S10_D7 hbr', 'S10_D8 hbr', 'S10_D10 hbr', 'S11_D8 hbr', 'S11_D11 hbr', 'S12_D7 hbr', 'S12_D9 hbr', 'S12_D10 hbr', 'S12_D12 hbr', 'S13_D8 hbr', 'S13_D10 hbr', 'S13_D11 hbr', 'S13_D13 hbr', 'S14_D9 hbr', 'S14_D12 hbr', 'S14_D19 hbr', 'S15_D10 hbr', 'S15_D12 hbr', 'S15_D13 hbr', 'S15_D14 hbr', 'S16_D11 hbr', 'S16_D13 hbr', 'S17_D14 hbr', 'S17_D15 hbr', 'S17_D18 hbr', 'S18_D15 hbr', 'S18_D17 hbr', 'S18_D18 hbr', 'S19_D14 hbr', 'S19_D15 hbr', 'S19_D16 hbr', 'S20_D15 hbr', 'S20_D16 hbr', 'S20_D17 hbr', 'S21_D18 hbr', 'S21_D19 hbr', 'S21_D20 hbr', 'S21_D21 hbr', 'S22_D20 hbr', 'S22_D22 hbr', 'S23_D9 hbr', 'S23_D19 hbr', 'S23_D21 hbr', 'S23_D23 hbr', 'S24_D20 hbr', 'S24_D21 hbr', 'S24_D22 hbr', 'S24_D24 hbr', 'S25_D21 hbr', 'S25_D23 hbr', 'S25_D24 hbr', 'S25_D25 hbr', 'S26_D22 hbr', 'S26_D24 hbr', 'S27_D5 hbr', 'S27_D23 hbr', 'S27_D25 hbr', 'S27_D26 hbr', 'S28_D24 hbr', 'S28_D25 hbr', 'S28_D27 hbr', 'S29_D25 hbr', 'S29_D26 hbr', 'S29_D27 hbr', 'S30_D27 hbr', 'S31_D2 hbr', 'S31_D27 hbr', 'S31_D28 hbr', 'S32_D27 hbr', 'S32_D28 hbr']\n"
     ]
    }
   ],
   "source": [
    "mne_nirs.channels.list_sources(long_haemo)\n",
    "print(long_haemo.ch_names)"
   ]
  },
  {
   "cell_type": "code",
   "execution_count": 20,
   "metadata": {},
   "outputs": [
    {
     "data": {
      "text/plain": [
       "196"
      ]
     },
     "execution_count": 20,
     "metadata": {},
     "output_type": "execute_result"
    }
   ],
   "source": [
    "len(long_haemo.ch_names)"
   ]
  },
  {
   "cell_type": "markdown",
   "metadata": {},
   "source": [
    "# 3. GLM analysis"
   ]
  },
  {
   "cell_type": "markdown",
   "metadata": {},
   "source": [
    "## 3.1 design matrix"
   ]
  },
  {
   "cell_type": "markdown",
   "metadata": {},
   "source": [
    "3.1.1 Events data"
   ]
  },
  {
   "cell_type": "code",
   "execution_count": 21,
   "metadata": {},
   "outputs": [
    {
     "data": {
      "image/png": "iVBORw0KGgoAAAANSUhEUgAAAjsAAAGwCAYAAABPSaTdAAAAOXRFWHRTb2Z0d2FyZQBNYXRwbG90bGliIHZlcnNpb24zLjguNCwgaHR0cHM6Ly9tYXRwbG90bGliLm9yZy8fJSN1AAAACXBIWXMAAA9hAAAPYQGoP6dpAAA+G0lEQVR4nO3dfVwVdf7//+fhUhA4KESg4hVipGK2ZmWaaaZJpbG2ZYgXmVvrpyzNb1fWuupWmtvW1tpmWW4Xn9X0Z4tlF0a0qeiW5eWmlhcRilfAlsIBQTxw5veHH04RqIAH5pzxcb/duOm85+17Xu8Zkaczc2ZshmEYAgAAsCg/swsAAABoSoQdAABgaYQdAABgaYQdAABgaYQdAABgaYQdAABgaYQdAABgaQFmF3AuXC6XDh8+rPDwcNlsNrPLAQB4McMwVFJSojZt2sjPj//rn098OuwcPnxY8fHxZpcBAPAhBw4cULt27cwuA83Ip8NOeHi4JCk3N1etW7c2uZqGczqd+uSTTzR06FAFBgaaXU6j+PocqN98vj4H6jdffefgcDgUHx/v/tmB84dPh53qS1fh4eGKiIgwuZqGczqdCg0NVUREhE//I+PLc6B+8/n6HKjffA2dA7c9nH+4aAkAACyNsAMAACyNsAMAACyNsAMAACyNsAMAACyNsAMAACyNsAMAACyNsAMAACyNsAMAACyNsAMAACyNsAMAACyNsAMAACyNsAMAACyNsAMAACyNsAMAACyNsAMAACyNsAMAACyNsAMAACyNsAMAACyNsAMAACyNsAMAACyNsAMAACyNsAMAACyNsAMAACyNsAMAACyNsAMAACyNsAMAACyNsAMAACyNsAMAACyNsAMAACyNsAMAACyNsAMAACyNsAMAACyNsAMAACyNsAMAACyNsAMAACyNsAMAACyNsAMAACyNsAMAACyNsAMAACyNsAMAACyNsAMAACyNsAMAACyNsAMAACyNsAMAACyNsAMAACyNsAMAACyNsAMAACyNsAMAACyNsAMAACyNsAMAACyNsAMAACyNsAMAACyNsAMAACyNsAMAACzN1LAza9Ys2Wy2Gl+xsbFmlgQAACwmwOwCunfvrk8//dS97O/vb2I1OJ+VHjuhosJyRcaEKKxVC68ZqynGA4DzielhJyAggLM5MN2uL/K17u29MgzJZpMGjklSt35tGjXWN/8+rDX/2OWRsZpiPAA435gedvbu3as2bdooODhYV1xxhebMmaPOnTvX2beiokIVFRXuZYfDIUlyOp1yOp3NUq8nVdfsi7VX8/U5OJ1OVZbbtO7jU0FHkgxDWvOPXYpLjFBYq+AGjVd6rMIdTM51rPqM5+v7X7LG36Gf/+prfL1+qf5z8OU54tzYDKP6n9Hmt2rVKpWVlalr164qKCjQk08+qV27dmnnzp2Kioqq1X/WrFmaPXt2rfYlS5YoNDS0OUqGBZ340V8/fFX770/05WVqEVVl2lhNMR5wPisrK9Po0aNVXFysiIgIs8tBMzI17PzS8ePHlZCQoIcffljTpk2rtb6uMzvx8fE6cuRIneHI2zmdTmVlZWnIkCEKDAw0u5xG8fU5OJ1OrVr5qQrWhunn3wk2m5Q2+/JGndl5e+ZXHhmrPuP5+v6XrPF3iPrNVd85OBwORUdHE3bOQ6Zfxvq5li1bKjk5WXv37q1zfXBwsIKDa//ACAwM9NlvUsn365d8ew4BIYauTkvUuqV7Zbgkm580MD1JrWLCGjxWq5hADRyTpDWLd53zWA0Zz5f3fzVfnwP1m+9sc/D1+aHxvCrsVFRU6Ntvv9XVV19tdik4zyT1jVWn5AtUXFgu+zl+4qlbvzZq3621R8ZqivEA4Hxjath58MEHNXz4cLVv316FhYV68skn5XA4NH78eDPLwnkqrFULjwUJT47VFOMBwPnE1LBz8OBBpaWl6YcfftAFF1ygK6+8Uhs2bFCHDh3MLAsAAFiIqWFn6dKlZm4eAACcB3g3FgAAsDTCDgAAsDTCDgAAsDTCDgAAsDTCDgAAsDTCDgAAsDTCDgAAsDTCDgAAsDTCDgAAsDTCDgAAsDTCDgAAsDTCDgAAsDTCDgAAsDTCDgAAsDTCDgAAsDTCDgAAsDTCDgAAsDTCDgAAsDTCDgAAsDTCDgAAsDTCDgAAsDTCDgAAsDTCDgAAsDTCDgAAsDTCDgAAsDTCDgAAsDTCDgAAsDTCDgAAsDTCDgAAsDTCDgAAsDTCDgAAsDTCDgAAsDTCDgAAsDTCDgAAsDTCDgAAsDTCDgAAsDTCDgAAsDTCDgAAsDTCDgAAsDTCDgAAsDTCDgAAsDTCDgAAsDTCDgAAsDTCDgAAsDTCDgAAsDTCDgAAsDTCDgAAsDTCDgAAsDTCDgAAsDTCDgAAsDTCDgAAsDSvCTtz586VzWbT1KlTzS4FgEmc+fk6vuFLOfPzLTsWgObnFWFn48aNWrhwoXr27Gl2KQBM4sjI0HfXDlbeHXfou2sHq+iddxo9VtE773jlWADMEWB2AaWlpUpPT9err76qJ5988ox9KyoqVFFR4V52OBySJKfTKafT2aR1NoXqmn2x9mq+PgfqN5/T6VRAUbEK582TXK5TjS6XjvxhpoKvuEIBsbENGq8yP19H/jCz2cby9WPg6/VL9Z+DL88R58ZmGIZhZgHjx49X69at9Ze//EUDBw5Ur1699Pzzz9fZd9asWZo9e3at9iVLlig0NLSJKwXQVEJychS/8NVa7QfuvkvlCQmWGAvmKysr0+jRo1VcXKyIiAizy0EzMvXMztKlS7VlyxZt3LixXv2nT5+uadOmuZcdDofi4+M1aNAgRUVFNVWZTcbpdCorK0tDhgxRYGCg2eU0iq/PgfrN53Q6tbqoWPLz++kMiiT5+enqW29t1NmYfa8taraxfP0Y+Hr9Uv3nUH01AOcf08LOgQMHNGXKFH3yySdq0aJFvf5McHCwgoODa7UHBgb67Dep5Pv1S74/B+o3V2WkXTEz/6DC2X88FSz8/BT3x9kKiY9v8FiB8fGK++Psny4/NdNYvn4MfL1+6exz8PX5ofFMCzubN29WYWGhevfu7W6rqqpSdna2XnzxRVVUVMjf39+s8gA0s4iRIxVxzTU6uT9PQR3aK7CBZ2F+LvI3v1HL/v29biwA5jAt7AwePFjbt2+v0TZhwgQlJSXpkUceIegA56HA2FiPhQlvHQtA8zMt7ISHh6tHjx412lq2bKmoqKha7QAAAI3lFc/ZAQAAaCqmP2fn59asWWN2CQAAwGI4swMAACyNsAMAACyNsAMAACyNsAMAACzNq25QBgDALC6XSydPnjS7DNRTYGBgvZ/JR9gBAJz3Tp48qdzcXLl+/h40eL3IyEjFxsbKZrOdsR9hBwBwXjMMQ0eOHJG/v7/i4+Pl58cdHt7OMAyVlZWpsLBQkhQXF3fG/oQdAMB5rbKyUmVlZWrTpo1CQ0PNLgf1FBISIkkqLCxUTEzMGS9pEV8BAOe1qqoqSVJQUJDJlaChqsOp0+k8Yz/CDgAA0lnv+4D3qe8xI+wAAABLI+wAAHCemTx5st5+++2z9isuLlZycrIqKiqaoaqmQ9gBAMBLdezYURERESovL3e3ORwOhYSEKCkpqVb/L774Qn5+fnr66adPO+ahQ4eUmZmp2267TZK0YcMG9ezZU5GRkYqJidH48eNVWloqSbLb7Ro6dKhee+01D8+seRF2AAA4B6XHTujg7mMqPXaiScaPjY3VypUr3csZGRmKj4+v1c/lcumBBx5Qnz59zjjem2++qdTUVPenl7p06aJVq1apqKhI+/btk8vl0hNPPOHuP2rUKC1atMhDszEHYQcAgEb65t+H9dZjn+u9v2zVW499rm/+fdjj20hLS9PixYvdy4sXL9bo0aNr9Vu4cKGuuOIKXXzxxWccLzMzUwMGDHAvR0dHq23btpJOPb/GZrMpNzfXvb53797as2eP+5k2voiwAwBAI5QeO6E1/9glwzi1bBjSmsW7PH6GZ8iQIdqyZYuOHj2q/Px87d27t0ZYkaSjR4/q+eef16xZs8463s6dO5WYmFijLS8vT5GRkQoLC9OKFSs0efJk9zp/f38lJCRo+/btHpmPGXioIAAAjVBUWO4OOtUMl1RcWK6wVi08tp2AgAClpqZq+fLlKi8v16233lrrKc+PPfaYpk6dqlatWp11vOLiYoWFhdVoa9++vYqKilRYWKhXXnml1hOJw8PDVVRUdM5zMQtndgAAaITImBD98jEvNj/JHhPi8W2lp6dryZIlWrJkidLT02us27p1q7766ivddddd9RrLbrerpKSkznUxMTFKSUnRuHHjarSXlJQoMjKyUbV7A87sAADQCGGtWmjgmCStWbxLhutU0BmYnuTRszrV+vbtq0OHDikoKEi9evXSmjVr3OvWrl2rPXv2uO+7KS4uVkBAgHJycvTqq6/WGis5OVm7d+8+7b09LpdLOTk57uWqqirl5OQoOTnZs5NqRoQdAAAaqVu/NmrfrbWKC8tljwlpkqBTLSMjo86XlN599926/fbb3ctTpkxRYmKiHnzwwTrHGTZsmLKzs5WamipJ+uijj5SQkKCuXbsqPz9fM2bM0KBBg9z9N2/erMTERMXExHh2Qs2Iy1gAAJyDsFYt1PaiVk0adCSpZ8+e6tGjR6320NBQxcbGur9CQkIUFhZ22stO48aN03vvved+J1hBQYFSUlIUFham3r17q127dlqwYIG7/7JlyzRx4sQmmVNz4cwOAABeat++fXW2Dxw4ULt27apz3RtvvHHGMePi4nTDDTdo6dKlSk9P14QJEzRhwoQ6+zocDmVmZmrTpk0NKdvrEHYAADjPzJ8/v179IiIitGPHjiaupulxGQsAAFgaYQcAAFgaYQcAAFgaYQcAAFgaYQcAAFhavT6NNW3atHoP+NxzzzW6GAAAAE+rV9jZunVrjeXNmzerqqpKF110kSRpz5498vf3V+/evT1fIQAAwDmoV9hZvXq1+/fPPfecwsPD9eabb7rfrnrs2DFNmDBBV199ddNUCQAAPGby5Mnq16+f0tLSztivuLhY/fv316ZNmxQcHNxM1Xleg+/ZefbZZzV37twar5Fv1aqVnnzyST377LMeLQ4AgPNZx44dFRERofLycnebw+FQSEiIkpKS3G1333234uLiFBERoeTkZH3wwQenHfPQoUPKzMzUbbfdJknasGGDevbsqcjISMXExGj8+PEqLS2VdOoN6UOHDtVrr73WRDNsHg0OOw6HQwUFBbXaCwsLT/vKeAAArMqZn6/jG76UMz+/ScaPjY3VypUr3csZGRmKj4+v0WfatGnat2+fHA6H/v73v2vMmDE6duxYneO9+eabSk1Nlb+/vySpS5cuWrVqlYqKirRv3z65XC498cQT7v6jRo3SokWLmmBmzafBYefXv/61JkyYoHfeeUcHDx7UwYMH9c4772jixIkaOXJkU9QIAIBXKnrnHX137WDl3XGHvrt2sIreecfj20hLS9PixYvdy4sXL9bo0aNr9ElKSnJfZrLZbDpx4oSOHDlS53iZmZkaMGCAezk6Olpt27aVJBmGIZvNptzcXPf63r17a8+ePSosLPTYnJpbg8POyy+/rBtvvFFjxoxRhw4d1KFDB6WnpyslJUUvvfRSU9QIAIDXcebn68gfZkou16kGl0tH/jDT42d4hgwZoi1btujo0aPKz8/X3r17a4SVavfcc49CQkLUp08fDRs2TN26datzvJ07dyoxMbFGW15eniIjIxUWFqYVK1Zo8uTJ7nX+/v5KSEjQ9u3bPTqv5tTgF4GGhobqpZde0jPPPKOcnBwZhqEuXbqoZcuWTVEfAABe6eS+/T8FnWoul07uz1NgbKzHthMQEKDU1FQtX75c5eXluvXWW+XnV/tcxUsvvaT58+dr9erVZwwmxcXFCgsLq9HWvn17FRUVqbCwUK+88ori4uJqrA8PD1dRUZFH5mOGRj9UsGXLlurZs6cuueQSgg4A4LwT1LGD9MvQ4eenoA7tPb6t9PR0LVmyREuWLFF6evpp+/n7++u6667Tv/71L2VmZtbZx263n/Ye25iYGKWkpGjcuHE12ktKShQZGdno+s1WrzM7I0eO1BtvvKGIiIiz3peTkZHhkcIAAPBmgbGxivvj7J8uZfn5Ke6Psz16Vqda3759dejQIQUFBalXr15as2bNGfu7XC7l5OTUuS45OVm7d+/WxRdfXK8/W1VVpZycHCUnJze6frPVK+zY7XbZbDb37wEAgBT5m9+oZf/+Ork/T0Ed2jdJ0KmWkZFR5+Wr0tJSvffee7r55pvVokULvffee1q9erXmzZtX5zjDhg1Tdna2UlNTJUkfffSREhIS1LVrV+Xn52vGjBkaNGiQu//mzZuVmJiomJiYJplXc6hX2Hn99dfr/D0AAOe7wNjYJg051Xr27Flnu81m06JFi3Tvvfe676NdsmTJac/EjBs3Tv3799czzzwjf39/FRQUaPLkySooKJDdbldKSoqeeeYZd/9ly5Zp4sSJTTKn5tLgG5QBAEDz2LdvX53tAwcO1K5duySduof2s88+q/eYcXFxuuGGG7R06VKlp6drwoQJmjBhQp19HQ6HMjMztWnTpgbX7k0IOwAAnGfmz59fr34RERHasWNHE1fT9Br9aSwAAABfQNgBAACW1uCw89Zbb6mioqJW+8mTJ/XWW295pCgAAABPaXDYmTBhgoqLi2u1l5SUnPYGJwAAALM0OOxUvyTslw4ePMgzeAAAgNep96exLr30UtlsNtlsNg0ePFgBAT/90aqqKuXm5mrYsGFNUiQAAEBj1TvsVD9pcdu2bbr++utrvEQsKChIHTt21C233OLxAgEAgGdNnjxZ/fr1U1pa2hn7FRcXq3///tq0aZOCg4ObqTrPq3fYmTlzpiSpY8eOGjVqlFq0aNFkRQEAgFM/c48ePaqCggKFhIRIOvWgvwsvvFAdOnTQrl27VFFRoUmTJikrK0slJSW69NJLNX/+/NM+QfnQoUPKzMzUCy+8IEnasGGD7r77buXl5SkoKEgpKSn629/+prCwMNntdg0dOlSvvfaa7r333mabt6c1+J6d8ePHq0WLFjp58qQOHjyovLy8Gl8NsWDBAvXs2VMRERGKiIhQ3759tWrVqoaWBACAafKP5+urI18p/3h+k4wfGxurlStXupczMjIUHx/vXq6srFTnzp21YcMGHT16VCNGjHBfjanLm2++qdTUVPn7+0uSunTpolWrVqmoqEj79u2Ty+XSE0884e4/atQoLVq0yPMTa0YNDjt79+7V1VdfrZCQEHXo0EGdOnVSp06d1LFjR3Xq1KlBY7Vr105PP/20Nm3apE2bNunaa6/VzTffrJ07dza0LABAIxW7irWxYKNHflh7+gd/UweJc5WxN0PX//N6Tfxkoq7/5/XK2Jvh8W2kpaVp8eLF7uXFixdr9OjR7uWWLVtqxowZateunfz9/TV58mTl5ubqxx9/rHO8zMxMDRgwwL0cHR2ttm3bSvrpQ0i5ubnu9b1799aePXtUWFjo6ak1mwa/LuKOO+5QQECAPvjgA8XFxdX5yaz6Gj58eI3lp556SgsWLNCGDRvUvXv3Ro8LAKifd3Pe1Z8df5bxL0N+Nj/N7DtTIxNHNmqsjL0Zmv3FbLkM1zmP1RTjeVr+8Xx3fZLkMlya/cVsXdXmKsW29NyLQYcMGaJFixbp6NGjOnnypPbu3avp06dr6dKldfb/4osvdOGFFyoqKqrO9Tt37lRiYmKNtry8PPXs2VPFxcUKCwvThx9+6F7n7++vhIQEbd++XYMHD/bYvJpTg8POtm3btHnzZiUlJXm0kKqqKi1fvlzHjx9X37596+xTUVFR44GGDodDkuR0OuV0Oj1aT3OortkXa6/m63OgfvP5+hx8uf6CsgI9+eWTMmRI+umH9eUxl+vC0AsbPNbsz2fLpZo/+BszVkPHq+8x8PQxynPkuYNONZfh0oGSAx4NOwEBAUpNTdXy5ctVXl6uW2+9VX5+dV+YKS4u1u9+9zs99dRTpx2vOtD8XPv27VVUVKTCwkK98soriouLq7E+PDxcRUVF5zwXszQ47HTr1k0//PCDxwrYvn27+vbtqxMnTigsLEwrVqxQt27d6uw7d+5czZ49u1b76tWrFRoa6rGamltWVpbZJZwzX58D9ZvP1+fgi/V/7/zeHSaquQyXlmctV+fAzqaN1djxznYMysrKGlzHmbSPaC8/m1+NwONn81N8ePwZ/lTjpKen69FHH1V5ebkWLlxYZ/A4ceKEUlNTdeONN+rOO+887Vh2u10lJSV1rouJiVFKSorGjRunL774wt1eUlKiyMjIc52GaRocdubNm6eHH35Yc+bMUXJysgIDA2usj4iIaNB4F110kbZt26aioiL985//1Pjx47V27do6A8/06dM1bdo097LD4VB8fLwGDRp02tN13szpdCorK0tDhgyptR99ha/PgfrN5+tz8OX6C8oK9Ma7b9QIFX42P9065NZGndnx1FgNHa++x6D6aoCnxLaM1cy+M2tdavPkWZ1qffv21aFDhxQUFKRevXppzZo1NdZXVlbq9ttvV5s2bfTnP//5jGMlJydr9+7duvjii+tc73K5lJOT416uqqpSTk7OaT/d5QsaHHauu+46Sap13a76pqaqqqoGjRcUFKQuXbpIki677DJt3LhRL7zwgl555ZVafYODg+v8nH9gYKDP/SPzc75ev+T7c6B+8/n6HHyx/nb2dvr9Fb/XE18+IUM/3bPTzt6uUWPNvKr2D/7GjNXY8c52DJri+IxMHKmr2lylAyUHFB8e3yRBp1pGRsZpL1/dddddKi8v1/Lly896L+2wYcOUnZ3t/sTWRx99pISEBHXt2lX5+fmaMWOGBg0a5O6/efNmJSYmKiYmxmNzaW4NDjurV69uijrcDMOo80WjAADPS01IVfm35Ursk6hOrTqd0w9rT//gb84gcS5iW8Y2S209e/ass33//v1644031KJFC7Vq1crdvmrVKl199dW1+o8bN079+/fXM888I39/fxUUFGjy5MkqKCiQ3W5XSkqKnnnmGXf/ZcuWaeLEiZ6fUDNqcNi55pprPLbxxx57TCkpKYqPj1dJSYmWLl2qNWvW6OOPP/bYNgAAZ2b3s+uyCy/zyJkPT//gb64g4a327dtXZ/vAgQO1a9cuSVKHDh1kGEa9x4yLi9MNN9ygpUuXKj09XRMmTDjti7wdDocyMzO1adOmBtfuTRocdiRp3bp1euWVV/T9999r+fLlatu2rf73f/9XnTp1Uv/+/es9TkFBgcaOHasjR47IbrerZ8+e+vjjjzVkyJDGlAUAAOph/vz59eoXERGhHTt2NHE1Ta/BYeef//ynxo4dq/T0dG3ZssV9yamkpERz5szRRx99VO+xfP2JjAAAwPs1+AnKTz75pF5++WW9+uqrNU55XnXVVdqyZYtHiwMAADhXDQ47u3fvrvGY6WoRERE+/cAhAABgTQ0OO3Fxcfruu+9qta9fv16dOzf8wVEAAABNqcFh53e/+52mTJmiL7/8UjabTYcPH9bixYv14IMP6p577mmKGgEAABqtwTcoP/zwwyouLtagQYN04sQJDRgwQMHBwXrwwQc1efLkpqgRAACg0Rr10fOnnnpKjz/+uL755hu5XC5169at1kvFAAAAvEGDL2O9+eabOn78uEJDQ3XZZZfp8ssvJ+gAAOBDJk+erLfffvus/YqLi5WcnOzzbzZocNh58MEHFRMTo9tvv10ffPCBKisrm6IuAADOex07dlRERITKy8vdbQ6HQyEhIUpKSnK3zZw5U926dZOfn5+WLl16xjEPHTqkzMxM3XbbbZKkDRs2qGfPnoqMjFRMTIzGjx+v0tJSSafekD506FC99tprTTC75tPgsHPkyBEtW7ZM/v7+uv322xUXF6d77rlHn3/+eVPUBwCAdys+JOVmn/q1CcTGxmrlypXu5YyMDMXHx9fok5iYqBdeeEGXX375Wcd78803lZqaKn9/f0lSly5dtGrVKhUVFWnfvn1yuVx64okn3P1HjRrl8w8BbnDYCQgI0E033aTFixersLBQzz//vPbv369BgwYpISGhKWoEAMA7bXlLer6H9ObwU79uecvjm0hLS9PixYvdy4sXL9bo0aNr9BkzZoyGDBmiFi1anHW8zMzMGs/Li46OVtu2bSWdehm3zWZTbm6ue33v3r21Z88eFRYWnutUTNPgsPNzoaGhuv7665WSkqLExMTTvrAMAADLKT4kvT9FMlynlg2X9P5Uj5/hGTJkiLZs2aKjR48qPz9fe/furfPhvvW1c+dOJSYm1mjLy8tTZGSkwsLCtGLFihqfrvb391dCQoK2b9/e6G2arVGfxiorK9OKFSu0ePFiffrpp4qPj1daWpqWL1/u6foAAPBOR3N+CjrVjCrp6PeSva3HNhMQEKDU1FQtX75c5eXluvXWW+Xn1/hzFcXFxbU+WNS+fXsVFRWpsLBQr7zyiuLi4mqsDw8P9+m3JDQ47KSlpen9999XaGiobr31Vq1Zs0ZXXXVVU9QGAID3ap0g2fxqBh6bv9Ta828TSE9P16OPPqry8nItXLjwnIKH3W5XSUlJnetiYmKUkpKicePG6YsvvnC3l5SUKDIystHbNFuDo6HNZtOyZct0+PBh/e1vfyPoAADOT/a20vAXTgUc6dSvw5/36Fmdan379tWhQ4dUWlqqXr16ndNYycnJ2r1792nXu1wu5eTkuJerqqqUk5Oj5OTkc9qumRp8ZmfJkiVNUQcAAL7nV+OkhMGnLl217twkQadaRkbGaS9fOZ1OVVVVyeVyyel06sSJEwoKCqqz/7Bhw5Sdna3U1FRJ0kcffaSEhAR17dpV+fn5mjFjhgYNGuTuv3nzZiUmJiomJqZJ5tUc6n1m54YbblBxcbF7+amnnqpxGu3HH39Ut27dPFocAABez95W6nR1kwYdSerZs6d69OhR57q77rpLISEhWrduncaNG6eQkBBlZ2fX2XfcuHF67733VFVVJUkqKChQSkqKwsLC1Lt3b7Vr104LFixw91+2bJkmTpzo+Qk1o3qHnczMzBpPUJw3b56OHj3qXq6srDzjaTEAANAw+/bt05VXXlmrfeDAgdq1a5d7+Y033pBhGDW+Bg4cWOeYcXFxuuGGG9wPH5wwYYK+//57HT9+XIcPH9aiRYvUunVrSaceYJiZmanf/va3np9cM6r3ZSzDMM64DAAAfMP8+fPr1S8iIkI7duxo4mqa3jk9ZwcAAMDb1Tvs2Gw22Wy2Wm0AAADerEGXse644w4FBwdLkk6cOKFJkyapZcuWkuTzb0QFAADWVO+wM378+BrLY8aMqdVn3Lhx514RAACAB9U77Lz++utNWQcAAECT4AZlAABgaYQdAABgaYQdAAAgSbrjjjv09NNPS5IWL16sX//6102ynZtuuqnGi0ZPJycnxyPv4CTsAADgpTp27KjQ0FCFhYUpKipKaWlpcjgczbLt9PR0rVixwuPjbty4UUVFRerbt2+N9srKSiUnJyspKcndlpCQoLi4OH344YfntE3CDgAA5+BIcbk+z/lBR4rLm2T8zz77TKWlpdq3b5+OHTvmPvPiq1599VWlpaXVan/xxRdlt9trtY8aNUqLFi06p20SdgAAaKRlG/PU7+nPNPrVL9Xv6c+0bGNek20rPDxcI0aM0Lfffutue+KJJ9ShQwdFRESob9+++vrrr93r5syZo7i4OIWHh6t79+765ptvJElHjx7V6NGjFRMTo86dO+vNN9+sc3tvvPGGhg0bJklas2aNkpKSNHv2bLVu3VqdOnVSVlaWu299x5ROvWtzwIABNdoKCgq0cOFCTZ8+vVb/AQMG6NNPP3W/uLQxCDsAADTCkeJyTc/YLtf/vSrSZUiPZexosjM8xcXFWrlypa644gp3W7du3bRp0yYdPXpUQ4YMcT/vbteuXVqwYIG2bt0qh8Ohf/7zn+6Xe44dO1bx8fE6cOCAPvroI02fPl3/+c9/zrr97777TuHh4SosLNT06dM1adIk97r6jllaWqq8vDwlJibWaH/kkUf02GOPuR9U/HOxsbGy2Wzat29fvfZTXQg7AAA0Qu4Px91Bp1qVYWjfD2Ue3c6QIUMUGRmp1q1b68CBA5o4caJ73S233KILLrhAAQEBeuyxx/T111+rtLRUAQEBOnHihL755htVVVUpKSlJsbGxys/P17p16zRnzhwFBwcrKSlJo0ePVkZGxlnrsNvteuCBBxQQEKAxY8bo+++/V2lpaYPGLC4ulr+/v1q0aOFu++KLL7Rnzx6lp6efdtvh4eEqKipq2I77GcIOAACN0Cm6pfx+8YpIf5tNHaNDPbqdrKwsFRUVqaysTMOHD1dKSop73auvvqru3bvLbrcrNjZWhmHoxx9/VJcuXfTcc8/p8ccf1wUXXKCJEyfK4XAoLy9Px48fV1RUlCIjIxUZGalXXnlFBQUFZ63jggsucL8TMzT01Byrz9TUd0y73a6qqiqVl586++VyuXT//ffrhRdeOOP7NktKShQZGdmQ3VZDvZ+gDAAAfhJnD9Hckcl6LGOHqgxD/jab5ozsoTh7SJNsLzg4WGPHjtW8efP0ww8/qLS0VNOmTdPatWt16aWX6sSJEwoLC5NhnDrdNHbsWI0dO1Y//PCDbr/9dr3wwgu68847FRkZqR9//NFjdbVt27beY4aFhaljx47avXu3evXqJYfDoS1btmj48OGSpJMnT8rhcCg2Nlbff/+9QkNDlZ+fL8Mw1LFjx0bXyJkdAAAaaVSf9lr/6CC9fdeVWv/oII3q077JtuV0OrVkyRLFxMQoKipKpaWlstlsioqKktPp1MyZM91BZ/fu3VqzZo1Onjyp0NBQBQcHy9/fX23btlWfPn30hz/8QWVlZaqsrNSWLVvcNy83RkPHHDZsmLKzsyWdOtNz6NAhbdu2Tdu2bdNrr72mTp06adu2bQoJORUas7OzNXjwYPn7+ze6RsIOAADnIM4eor4JUU12Rufaa69VWFiYoqOjtXr1ar377ruy2Wzq0aOH7r77bvXs2VMdO3ZUp06dFBQUJEmqqKjQQw89pKioKLVv3152u11TpkyRdOphgfv371fnzp0VExOjqVOnui8rNVZDxvztb3+rt99+W5Jks9kUGxvr/mrdurX8/f3dNyVL0rJly2rcp9QYXMYCAMBLne0TSH/+85/15z//2b38P//zP+7fb9y4sc4/ExUVdcaPm1e74447dMcdd0iSBg4cqF27dtXoW30W6Wxj/lLv3r0VHR2tf//73+rXr1+Ndb/cTk5Ojg4fPqybbrqpXmOfDmEHAAA0q/fff79e/RISEur1Womz4TIWAACwNMIOAACwNMIOAACqeQ8KfEN9jxlhBwBwXqv+SPPJkydNrgQNVVZ26mnVgYGBZ+zHDcoAgPNaQECAQkND9d///leBgYHy8+M8gLczDENlZWUqLCxUZGTkWZ/BQ9gBAJzXbDab4uLilJubq/3795tdDhogMjJSsbGxZ+1H2AEAnPeCgoKUmJjIpSwfEhgYWO+nKhN2AACQ5OfnV+Nt3LAOLkwCAABLI+wAAABLI+wAAABLI+wAAABLI+wAAABLI+wAAABLMzXszJ07V3369FF4eLhiYmKUmpqq3bt3m1kSAACwGFPDztq1a3Xvvfdqw4YNysrKUmVlpYYOHarjx4+bWZa5ig9JudmnfvW28TxdGwAAzcDUhwp+/PHHNZZff/11xcTEaPPmzRowYIBJVZloy1vS+1MkwyXZ/KThL0i/Gucd43m6NgAAmolXPUG5uLhYktS6des611dUVKiiosK97HA4JElOp1NOp7PpC/Sw6pqdTqfkOKyA96fIZrhOrTRcMt6fqsoO10gRbRo+uCfHO8NYzpALaszF19Q4Bj7I1+uXfH8O1G+++s7Bl+eIc2MzDMMwuwjp1BtMb775Zh07dkzr1q2rs8+sWbM0e/bsWu1LlixRaGhoU5fYpKJLvlG/756u1b6+y3T9GH6xqeN5ujYAMENZWZlGjx6t4uJiRUREmF0OmpHXhJ17771XH374odavX6927drV2aeuMzvx8fE6cuSIoqKimqtUj3E6ncrKytKQIUMUWP5fBbzY66ezJ5IMm78qJ29t/JkdT413hrGcIRf8NIfAwIbXabIax4D6TeHrc6B+89V3Dg6HQ9HR0YSd85BXXMa67777tHLlSmVnZ5826EhScHCwgoODa7UHBgb67Dep9H/1h3Y4dR/M+1Mlo0qy+cs2/HkFRnVo3KBRHhzvTGP932lhSxwD6jeVr8+B+s13tjn4+vzQeKaGHcMwdN9992nFihVas2aNOnXqZGY55vvVOClhsHT0e6l1Z8ne1nvG83RtAAA0E1PDzr333qslS5bovffeU3h4uPLz8yVJdrtdISEhZpZmHntbzwYJT47n6doAAGgGpj5nZ8GCBSouLtbAgQMVFxfn/lq2bJmZZQEAAAsx/TIWAABAU+LdWAAAwNIIOwAAwNIIOwAAwNIIOwAAwNIIOwAAwNIIOwAAwNIIOwAAwNIIOwAAwNIIOwAAwNIIOwAAwNIIOwAAwNIIOwAAwNIIOwAAwNIIOwAAwNIIOwAAwNIIOwAAwNIIOwAAwNIIOwAAwNIIOwAAwNIIOwAAwNIIOwAAwNIIOwAAwNIIOwAAwNIIOwAAwNIIOwAAwNIIOwAAwNIIOwAAwNIIOwAAwNIIOwAAwNIIOwAAwNIIOwAAwNIIOwAAwNIIOwAAwNIIOwAAwNIIOwAAwNIIOwAAwNIIOwAAwNIIOwAAwNIIOwAAwNIIOwAAwNIIOwAAwNIIOwAAwNIIOwAAwNIIOwAAwNIIOwAAwNIIOwAAwNIIOwAAwNIIOwAAwNIIOwAAwNIIOwAAwNIIOwAAwNJMDTvZ2dkaPny42rRpI5vNpnfffdfMctDMjhSX6/OcH3SkuNzsUs4r7HfzcQzMkf9/+zuf/X7eCTBz48ePH9cll1yiCRMm6JZbbjGzFDSzZRvzND1ju1yG5GeT5o5M1qg+7c0uy/LY7+bjGJhj2cY8PfL2l5KkoX/J1ry0K9jv5xFTw05KSopSUlLq3b+iokIVFRXuZYfDIUlyOp1yOp0er6+pVdfsi7VXa8wcjhSfcP9jL0kuQ5qesV19O7VSnL1FU5R5Wr5+DBpSvzft95/jGJh7DHx9/0tnn0Nd+/2xjB0a0PUCxdlDmqtMmMjUsNNQc+fO1ezZs2u1r169WqGhoSZU5BlZWVlml3DOGjKHvcU2uQz/Gm0uQ/r/PlqtRLvh6dLqxdePQX3q98b9/nMcA3OPga/vf+n0c6hrv1cZhvb9UEbYOU/4VNiZPn26pk2b5l52OByKj4/XoEGDFBUVZWJljeN0OpWVlaUhQ4YoMDDQ7HIapTFzOFJ8Qi99m+3+X5Z06nT+bTcMMuXMji8fg4bU7037/ec4BuYeA1/f/9LZ5+De7z9r87fZ1DHad/+TjIbxqbATHBys4ODgWu2BgYE++00q+X79UsPm0D46UHNHJuuxjB2qMgz522yaM7KH2keHN3GVp+frx6A+9Xvjfv85joG5fH3/S6efQ/V+f/TtryTJvd85q3P+8KmwA+sY1ae9BnS9QPt+KFPH6FD+0Wkm7HfzcQzMMapPe10aG6yL/iJlPnC1usZfaHZJaEaEHZgmzh7CP/QmYL+bj2Ngjtj/2+ex7Pvzjqlhp7S0VN999517OTc3V9u2bVPr1q3Vvj0fCQQAAOfO1LCzadMmDRo0yL1cffPx+PHj9cYbb5hUFQAAsBJTw87AgQNlGOZ/5BUAAFgX78YCAACWRtgBAACWRtgBAACWRtgBAACWRtgBAACWRtgBAACWRtgBAACWRtgBAACWRtgBAACWRtgBAACWRtgBAACWRtgBAACWRtgBAACWRtgBAACWRtgBAACWRtgBAACWRtgBAACWRtgBAACWRtgBAACWRtgBAACWRtgBAACWRtgBAACWRtgBAACWRtgBAACWRtgBAACWRtgBAACWRtgBAACWRtgBAACWRtgBAACWRtgBAACWRtgBAACWRtgBAACWRtgBAACWRtgBAACWRtgBAACWRtgBAACWRtgBAACWRtgBAACWRtgBAACWRtgBAACWRtgBAACWRtgBAACWRtgBAACWRtgBAACWRtgBAACWRtgBAACWRtgBAACWRtgBAACWRtgBAACWRtgBAACWRtgBAACWRtgBAACWRtgBAACWFmB2AefCMAxJUklJiQIDA02upuGcTqfKysrkcDh8sn7J9+dA/ebz9TlQv/nqOweHwyHpp58dOH/4dNj58ccfJUmdOnUyuRIAgK8oKSmR3W43uww0I58OO61bt5Yk5eXl+eRfXIfDofj4eB04cEARERFml9Movj4H6jefr8+B+s1X3zkYhqGSkhK1adOmGauDN/DpsOPnd+qWI7vd7rPfpJIUERHh0/VLvj8H6jefr8+B+s1Xnzn44n+Mce64QRkAAFgaYQcAAFiaT4ed4OBgzZw5U8HBwWaX0ii+Xr/k+3OgfvP5+hyo33xWmAOals3gM3gAAMDCfPrMDgAAwNkQdgAAgKURdgAAgKURdgAAgKX5dNh56aWX1KlTJ7Vo0UK9e/fWunXrzC6pTnPnzlWfPn0UHh6umJgYpaamavfu3TX6GIahWbNmqU2bNgoJCdHAgQO1c+dOkyo+s7lz58pms2nq1KnuNm+v/9ChQxozZoyioqIUGhqqXr16afPmze713l5/ZWWlfv/736tTp04KCQlR586d9cc//lEul8vdx5vmkJ2dreHDh6tNmzay2Wx69913a6yvT60VFRW67777FB0drZYtW2rEiBE6ePCg6fU7nU498sgjSk5OVsuWLdWmTRuNGzdOhw8f9pr6zzaHX/rd734nm82m559/vka7tx6Dat9++61GjBghu92u8PBwXXnllcrLy/OK+uFdfDbsLFu2TFOnTtXjjz+urVu36uqrr1ZKSkqNv+jeYu3atbr33nu1YcMGZWVlqbKyUkOHDtXx48fdff70pz/pueee04svvqiNGzcqNjZWQ4YMUUlJiYmV17Zx40YtXLhQPXv2rNHuzfUfO3ZM/fr1U2BgoFatWqVvvvlGzz77rCIjI919vLl+SZo3b55efvllvfjii/r222/1pz/9Sc8884zmz5/v7uNNczh+/LguueQSvfjii3Wur0+tU6dO1YoVK7R06VKtX79epaWluummm1RVVWVq/WVlZdqyZYtmzJihLVu2KCMjQ3v27NGIESNq9DOz/rPN4efeffddffnll3W+QsFbj4Ek5eTkqH///kpKStKaNWv0n//8RzNmzFCLFi28on54GcNHXX755cakSZNqtCUlJRmPPvqoSRXVX2FhoSHJWLt2rWEYhuFyuYzY2Fjj6aefdvc5ceKEYbfbjZdfftmsMmspKSkxEhMTjaysLOOaa64xpkyZYhiG99f/yCOPGP379z/tem+v3zAM48YbbzTuvPPOGm0jR440xowZYxiGd89BkrFixQr3cn1qLSoqMgIDA42lS5e6+xw6dMjw8/MzPv7442ar3TBq11+Xr776ypBk7N+/3zAM76rfME4/h4MHDxpt27Y1duzYYXTo0MH4y1/+4l7nTXOoq/5Ro0a5//7XxZvqh/l88szOyZMntXnzZg0dOrRG+9ChQ/X555+bVFX9FRcXS/rpRaa5ubnKz8+vMZ/g4GBdc801XjWfe++9VzfeeKOuu+66Gu3eXv/KlSt12WWX6dZbb1VMTIwuvfRSvfrqq+713l6/JPXv31//+te/tGfPHknSf/7zH61fv1433HCDJN+YQ7X61Lp582Y5nc4afdq0aaMePXp43XykU9/TNpvNfbbQF+p3uVwaO3asHnroIXXv3r3Wem+eg8vl0ocffqiuXbvq+uuvV0xMjK644ooal7q8uX40P58MOz/88IOqqqp04YUX1mi/8MILlZ+fb1JV9WMYhqZNm6b+/furR48ekuSu2Zvns3TpUm3ZskVz586ttc7b6//++++1YMECJSYmKjMzU5MmTdL999+vt956S5L31y9JjzzyiNLS0pSUlKTAwEBdeumlmjp1qtLS0iT5xhyq1afW/Px8BQUFqVWrVqft4y1OnDihRx99VKNHj3a/hNIX6p83b54CAgJ0//3317nem+dQWFio0tJSPf300xo2bJg++eQT/frXv9bIkSO1du1aSd5dP5qfT7/13Gaz1Vg2DKNWm7eZPHmyvv76a61fv77WOm+dz4EDBzRlyhR98sknNa6H/5K31u9yuXTZZZdpzpw5kqRLL71UO3fu1IIFCzRu3Dh3P2+tXzp1j9o//vEPLVmyRN27d9e2bds0depUtWnTRuPHj3f38+Y5/FJjavW2+TidTt1+++1yuVx66aWXztrfW+rfvHmzXnjhBW3ZsqXB9XjDHKpvzL/55pv1wAMPSJJ69eqlzz//XC+//LKuueaa0/5Zb6gfzc8nz+xER0fL39+/VjovLCys9b9Fb3Lfffdp5cqVWr16tdq1a+duj42NlSSvnc/mzZtVWFio3r17KyAgQAEBAVq7dq3++te/KiAgwF2jt9YfFxenbt261Wi7+OKL3Teze/v+l6SHHnpIjz76qG6//XYlJydr7NixeuCBB9xn2nxhDtXqU2tsbKxOnjypY8eOnbaP2ZxOp2677Tbl5uYqKyvLfVZH8v76161bp8LCQrVv3979Pb1//379v//3/9SxY0dJ3j2H6OhoBQQEnPX72lvrR/PzybATFBSk3r17Kysrq0Z7VlaWrrrqKpOqOj3DMDR58mRlZGTos88+U6dOnWqs79Spk2JjY2vM5+TJk1q7dq1XzGfw4MHavn27tm3b5v667LLLlJ6erm3btqlz585eXX+/fv1qfdR/z5496tChgyTv3//SqU8A+fnV/Hb19/d3/w/XF+ZQrT619u7dW4GBgTX6HDlyRDt27PCK+VQHnb179+rTTz9VVFRUjfXeXv/YsWP19ddf1/iebtOmjR566CFlZmZK8u45BAUFqU+fPmf8vvbm+mECc+6LPndLly41AgMDjUWLFhnffPONMXXqVKNly5bGvn37zC6tlv/5n/8x7Ha7sWbNGuPIkSPur7KyMnefp59+2rDb7UZGRoaxfft2Iy0tzYiLizMcDoeJlZ/ezz+NZRjeXf9XX31lBAQEGE899ZSxd+9eY/HixUZoaKjxj3/8w93Hm+s3DMMYP3680bZtW+ODDz4wcnNzjYyMDCM6Otp4+OGH3X28aQ4lJSXG1q1bja1btxqSjOeee87YunWr+9NK9al10qRJRrt27YxPP/3U2LJli3Httdcal1xyiVFZWWlq/U6n0xgxYoTRrl07Y9u2bTW+pysqKryi/rPNoS6//DSWYXjvMTAMw8jIyDACAwONhQsXGnv37jXmz59v+Pv7G+vWrfOK+uFdfDbsGIZh/O1vfzM6dOhgBAUFGb/61a/cH+X2NpLq/Hr99dfdfVwulzFz5kwjNjbWCA4ONgYMGGBs377dvKLP4pdhx9vrf//9940ePXoYwcHBRlJSkrFw4cIa6729fofDYUyZMsVo37690aJFC6Nz587G448/XuOHqzfNYfXq1XX+nR8/fny9ay0vLzcmT55stG7d2ggJCTFuuukmIy8vz/T6c3NzT/s9vXr1aq+o/2xzqEtdYcdbj0G1RYsWGV26dDFatGhhXHLJJca7777rNfXDu9gMwzCa9twRAACAeXzynh0AAID6IuwAAABLI+wAAABLI+wAAABLI+wAAABLI+wAAABLI+wAAABLI+wAAABLI+wAXmLWrFnq1auXadufMWOG7r777nr1ffDBB3X//fc3cUUA4Bk8QRloBjab7Yzrx48frxdffFEVFRW1XirZHAoKCpSYmKivv/7a/dbrMyksLFRCQoK+/vrrWi+2BQBvQ9gBmkF+fr7798uWLdMf/vCHGm9sDgkJkd1uN6M0SdKcOXO0du1a9xuv6+OWW25Rly5dNG/evCasDADOHZexgGYQGxvr/rLb7bLZbLXafnkZ64477lBqaqrmzJmjCy+8UJGRkZo9e7YqKyv10EMPqXXr1mrXrp3+/ve/19jWoUOHNGrUKLVq1UpRUVG6+eabtW/fvjPWt3TpUo0YMaJG2zvvvKPk5GSFhIQoKipK1113nY4fP+5eP2LECL399tvnvG8AoKkRdgAv9tlnn+nw4cPKzs7Wc889p1mzZummm25Sq1at9OWXX2rSpEmaNGmSDhw4IEkqKyvToEGDFBYWpuzsbK1fv15hYWEaNmyYTp48Wec2jh07ph07duiyyy5ztx05ckRpaWm688479e2332rNmjUaOXKkfn4i+PLLL9eBAwe0f//+pt0JAHCOCDuAF2vdurX++te/6qKLLtKdd96piy66SGVlZXrssceUmJio6dOnKygoSP/+978lnTpD4+fnp9dee03Jycm6+OKL9frrrysvL09r1qypcxv79++XYRhq06aNu+3IkSOqrKzUyJEj1bFjRyUnJ+uee+5RWFiYu0/btm0l6axnjQDAbAFmFwDg9Lp37y4/v5/+T3LhhReqR48e7mV/f39FRUWpsLBQkrR582Z99913Cg8PrzHOiRMnlJOTU+c2ysvLJUktWrRwt11yySUaPHiwkpOTdf3112vo0KH6zW9+o1atWrn7hISESDp1NgkAvBlhB/BigYGBNZZtNludbS6XS5LkcrnUu3dvLV68uNZYF1xwQZ3biI6OlnTqclZ1H39/f2VlZenzzz/XJ598ovnz5+vxxx/Xl19+6f701dGjR884LgB4Cy5jARbyq1/9Snv37lVMTIy6dOlS4+t0n/ZKSEhQRESEvvnmmxrtNptN/fr10+zZs7V161YFBQVpxYoV7vU7duxQYGCgunfv3qRzAoBzRdgBLCQ9PV3R0dG6+eabtW7dOuXm5mrt2rWaMmWKDh48WOef8fPz03XXXaf169e727788kvNmTNHmzZtUl5enjIyMvTf//5XF198sbvPunXrdPXVV7svZwGAtyLsABYSGhqq7OxstW/fXiNHjtTFF1+sO++8U+Xl5YqIiDjtn7v77ru1dOlS9+WwiIgIZWdn64YbblDXrl31+9//Xs8++6xSUlLcf+btt9/WXXfd1eRzAoBzxUMFAcgwDF155ZWaOnWq0tLSztr/ww8/1EMPPaSvv/5aAQHc+gfAu3FmB4BsNpsWLlyoysrKevU/fvy4Xn/9dYIOAJ/AmR0AAGBpnNkBAACWRtgBAACWRtgBAACWRtgBAACWRtgBAACWRtgBAACWRtgBAACWRtgBAACWRtgBAACW9v8DJ6Qqq5rEF+4AAAAASUVORK5CYII=",
      "text/plain": [
       "<Figure size 640x480 with 1 Axes>"
      ]
     },
     "metadata": {},
     "output_type": "display_data"
    }
   ],
   "source": [
    "events, event_dict = mne.events_from_annotations(raw_haemo, verbose=False)\n",
    "mne.viz.plot_events(events, event_id=event_dict, sfreq=raw_haemo.info['sfreq']);\n",
    "\n"
   ]
  },
  {
   "cell_type": "code",
   "execution_count": 22,
   "metadata": {},
   "outputs": [],
   "source": [
    "def _update_designmatrix(df):\n",
    "    \"\"\"\n",
    "    Label trials for an LSA model.\n",
    "\n",
    "    Parameters:\n",
    "    - df: DataFrame containing trial information.\n",
    "\n",
    "    Returns:\n",
    "    - df: Updated DataFrame with labeled trial types.\n",
    "    \"\"\"\n",
    "\n",
    "    unique_conditions = df[\"trial_type\"].unique()\n",
    "\n",
    "    df[\"class\"] = df[\"trial_type\"]\n",
    "    condition_counter = {condition: 0 for condition in unique_conditions}\n",
    "\n",
    "    for i, trial in df.iterrows():\n",
    "        trial_condition = trial[\"class\"]\n",
    "        condition_counter[trial_condition] += 1\n",
    "        labeled_trial_name = f\"{trial_condition}_{condition_counter[trial_condition]:03d}\"\n",
    "        df.loc[i, \"trial_type\"] = labeled_trial_name\n",
    "\n",
    "    return df"
   ]
  },
  {
   "cell_type": "code",
   "execution_count": 23,
   "metadata": {},
   "outputs": [
    {
     "data": {
      "text/html": [
       "<div>\n",
       "<style scoped>\n",
       "    .dataframe tbody tr th:only-of-type {\n",
       "        vertical-align: middle;\n",
       "    }\n",
       "\n",
       "    .dataframe tbody tr th {\n",
       "        vertical-align: top;\n",
       "    }\n",
       "\n",
       "    .dataframe thead th {\n",
       "        text-align: right;\n",
       "    }\n",
       "</style>\n",
       "<table border=\"1\" class=\"dataframe\">\n",
       "  <thead>\n",
       "    <tr style=\"text-align: right;\">\n",
       "      <th></th>\n",
       "      <th>onset</th>\n",
       "      <th>duration</th>\n",
       "      <th>trial_type</th>\n",
       "    </tr>\n",
       "  </thead>\n",
       "  <tbody>\n",
       "    <tr>\n",
       "      <th>0</th>\n",
       "      <td>22.06208</td>\n",
       "      <td>7.5</td>\n",
       "      <td>M1</td>\n",
       "    </tr>\n",
       "    <tr>\n",
       "      <th>1</th>\n",
       "      <td>30.07744</td>\n",
       "      <td>7.5</td>\n",
       "      <td>M1</td>\n",
       "    </tr>\n",
       "    <tr>\n",
       "      <th>2</th>\n",
       "      <td>38.09280</td>\n",
       "      <td>7.5</td>\n",
       "      <td>M1</td>\n",
       "    </tr>\n",
       "    <tr>\n",
       "      <th>3</th>\n",
       "      <td>46.10816</td>\n",
       "      <td>7.5</td>\n",
       "      <td>Baseline</td>\n",
       "    </tr>\n",
       "    <tr>\n",
       "      <th>4</th>\n",
       "      <td>61.10720</td>\n",
       "      <td>7.5</td>\n",
       "      <td>M4</td>\n",
       "    </tr>\n",
       "    <tr>\n",
       "      <th>5</th>\n",
       "      <td>69.12256</td>\n",
       "      <td>7.5</td>\n",
       "      <td>M4</td>\n",
       "    </tr>\n",
       "    <tr>\n",
       "      <th>6</th>\n",
       "      <td>77.13792</td>\n",
       "      <td>7.5</td>\n",
       "      <td>M4</td>\n",
       "    </tr>\n",
       "    <tr>\n",
       "      <th>7</th>\n",
       "      <td>85.15328</td>\n",
       "      <td>7.5</td>\n",
       "      <td>Baseline</td>\n",
       "    </tr>\n",
       "    <tr>\n",
       "      <th>8</th>\n",
       "      <td>101.18400</td>\n",
       "      <td>7.5</td>\n",
       "      <td>M3</td>\n",
       "    </tr>\n",
       "    <tr>\n",
       "      <th>9</th>\n",
       "      <td>109.12000</td>\n",
       "      <td>7.5</td>\n",
       "      <td>M3</td>\n",
       "    </tr>\n",
       "  </tbody>\n",
       "</table>\n",
       "</div>"
      ],
      "text/plain": [
       "       onset  duration trial_type\n",
       "0   22.06208       7.5         M1\n",
       "1   30.07744       7.5         M1\n",
       "2   38.09280       7.5         M1\n",
       "3   46.10816       7.5   Baseline\n",
       "4   61.10720       7.5         M4\n",
       "5   69.12256       7.5         M4\n",
       "6   77.13792       7.5         M4\n",
       "7   85.15328       7.5   Baseline\n",
       "8  101.18400       7.5         M3\n",
       "9  109.12000       7.5         M3"
      ]
     },
     "execution_count": 23,
     "metadata": {},
     "output_type": "execute_result"
    }
   ],
   "source": [
    "# for each event in annotation, get onset\n",
    "# get duration\n",
    "# get description\n",
    "# create a dataframe with onset, duration and description\n",
    "\n",
    "df = pd.DataFrame(raw_haemo.annotations)\n",
    "\n",
    "df = df.rename(columns={\"onset\": \"onset\", \"duration\": \"duration\", \"description\": \"trial_type\"})\n",
    "\n",
    "# drop column orig\n",
    "df = df.drop(columns=\"orig_time\")\n",
    "\n",
    "df.head(10)\n",
    "\n"
   ]
  },
  {
   "cell_type": "code",
   "execution_count": 24,
   "metadata": {},
   "outputs": [
    {
     "data": {
      "text/html": [
       "<div>\n",
       "<style scoped>\n",
       "    .dataframe tbody tr th:only-of-type {\n",
       "        vertical-align: middle;\n",
       "    }\n",
       "\n",
       "    .dataframe tbody tr th {\n",
       "        vertical-align: top;\n",
       "    }\n",
       "\n",
       "    .dataframe thead th {\n",
       "        text-align: right;\n",
       "    }\n",
       "</style>\n",
       "<table border=\"1\" class=\"dataframe\">\n",
       "  <thead>\n",
       "    <tr style=\"text-align: right;\">\n",
       "      <th></th>\n",
       "      <th>onset</th>\n",
       "      <th>duration</th>\n",
       "      <th>trial_type</th>\n",
       "      <th>class</th>\n",
       "    </tr>\n",
       "  </thead>\n",
       "  <tbody>\n",
       "    <tr>\n",
       "      <th>0</th>\n",
       "      <td>22.06208</td>\n",
       "      <td>7.5</td>\n",
       "      <td>M1_001</td>\n",
       "      <td>M1</td>\n",
       "    </tr>\n",
       "    <tr>\n",
       "      <th>1</th>\n",
       "      <td>30.07744</td>\n",
       "      <td>7.5</td>\n",
       "      <td>M1_002</td>\n",
       "      <td>M1</td>\n",
       "    </tr>\n",
       "    <tr>\n",
       "      <th>2</th>\n",
       "      <td>38.09280</td>\n",
       "      <td>7.5</td>\n",
       "      <td>M1_003</td>\n",
       "      <td>M1</td>\n",
       "    </tr>\n",
       "    <tr>\n",
       "      <th>3</th>\n",
       "      <td>46.10816</td>\n",
       "      <td>7.5</td>\n",
       "      <td>Baseline_001</td>\n",
       "      <td>Baseline</td>\n",
       "    </tr>\n",
       "    <tr>\n",
       "      <th>4</th>\n",
       "      <td>61.10720</td>\n",
       "      <td>7.5</td>\n",
       "      <td>M4_001</td>\n",
       "      <td>M4</td>\n",
       "    </tr>\n",
       "  </tbody>\n",
       "</table>\n",
       "</div>"
      ],
      "text/plain": [
       "      onset  duration    trial_type     class\n",
       "0  22.06208       7.5        M1_001        M1\n",
       "1  30.07744       7.5        M1_002        M1\n",
       "2  38.09280       7.5        M1_003        M1\n",
       "3  46.10816       7.5  Baseline_001  Baseline\n",
       "4  61.10720       7.5        M4_001        M4"
      ]
     },
     "execution_count": 24,
     "metadata": {},
     "output_type": "execute_result"
    }
   ],
   "source": [
    "# Events to dataframe.\n",
    "\n",
    "\n",
    "# Update the design matrix.\n",
    "events_df_lsa = _update_designmatrix(df)\n",
    "\n",
    "events_df_lsa.head()\n",
    "\n"
   ]
  },
  {
   "cell_type": "code",
   "execution_count": 25,
   "metadata": {},
   "outputs": [
    {
     "data": {
      "text/html": [
       "<div>\n",
       "<style scoped>\n",
       "    .dataframe tbody tr th:only-of-type {\n",
       "        vertical-align: middle;\n",
       "    }\n",
       "\n",
       "    .dataframe tbody tr th {\n",
       "        vertical-align: top;\n",
       "    }\n",
       "\n",
       "    .dataframe thead th {\n",
       "        text-align: right;\n",
       "    }\n",
       "</style>\n",
       "<table border=\"1\" class=\"dataframe\">\n",
       "  <thead>\n",
       "    <tr style=\"text-align: right;\">\n",
       "      <th></th>\n",
       "      <th>onset</th>\n",
       "      <th>duration</th>\n",
       "      <th>trial_type</th>\n",
       "      <th>class</th>\n",
       "    </tr>\n",
       "  </thead>\n",
       "  <tbody>\n",
       "    <tr>\n",
       "      <th>0</th>\n",
       "      <td>22.06208</td>\n",
       "      <td>7.5</td>\n",
       "      <td>M1_001</td>\n",
       "      <td>M1</td>\n",
       "    </tr>\n",
       "    <tr>\n",
       "      <th>1</th>\n",
       "      <td>30.07744</td>\n",
       "      <td>7.5</td>\n",
       "      <td>M1_002</td>\n",
       "      <td>M1</td>\n",
       "    </tr>\n",
       "    <tr>\n",
       "      <th>2</th>\n",
       "      <td>38.09280</td>\n",
       "      <td>7.5</td>\n",
       "      <td>M1_003</td>\n",
       "      <td>M1</td>\n",
       "    </tr>\n",
       "    <tr>\n",
       "      <th>3</th>\n",
       "      <td>46.10816</td>\n",
       "      <td>7.5</td>\n",
       "      <td>Baseline_001</td>\n",
       "      <td>Baseline</td>\n",
       "    </tr>\n",
       "    <tr>\n",
       "      <th>4</th>\n",
       "      <td>61.10720</td>\n",
       "      <td>7.5</td>\n",
       "      <td>M4_001</td>\n",
       "      <td>M4</td>\n",
       "    </tr>\n",
       "    <tr>\n",
       "      <th>5</th>\n",
       "      <td>69.12256</td>\n",
       "      <td>7.5</td>\n",
       "      <td>M4_002</td>\n",
       "      <td>M4</td>\n",
       "    </tr>\n",
       "    <tr>\n",
       "      <th>6</th>\n",
       "      <td>77.13792</td>\n",
       "      <td>7.5</td>\n",
       "      <td>M4_003</td>\n",
       "      <td>M4</td>\n",
       "    </tr>\n",
       "    <tr>\n",
       "      <th>7</th>\n",
       "      <td>85.15328</td>\n",
       "      <td>7.5</td>\n",
       "      <td>Baseline_002</td>\n",
       "      <td>Baseline</td>\n",
       "    </tr>\n",
       "    <tr>\n",
       "      <th>8</th>\n",
       "      <td>101.18400</td>\n",
       "      <td>7.5</td>\n",
       "      <td>M3_001</td>\n",
       "      <td>M3</td>\n",
       "    </tr>\n",
       "    <tr>\n",
       "      <th>9</th>\n",
       "      <td>109.12000</td>\n",
       "      <td>7.5</td>\n",
       "      <td>M3_002</td>\n",
       "      <td>M3</td>\n",
       "    </tr>\n",
       "    <tr>\n",
       "      <th>10</th>\n",
       "      <td>117.13536</td>\n",
       "      <td>7.5</td>\n",
       "      <td>M3_003</td>\n",
       "      <td>M3</td>\n",
       "    </tr>\n",
       "    <tr>\n",
       "      <th>11</th>\n",
       "      <td>125.15072</td>\n",
       "      <td>7.5</td>\n",
       "      <td>Baseline_003</td>\n",
       "      <td>Baseline</td>\n",
       "    </tr>\n",
       "    <tr>\n",
       "      <th>12</th>\n",
       "      <td>140.22912</td>\n",
       "      <td>7.5</td>\n",
       "      <td>M2_001</td>\n",
       "      <td>M2</td>\n",
       "    </tr>\n",
       "    <tr>\n",
       "      <th>13</th>\n",
       "      <td>148.24448</td>\n",
       "      <td>7.5</td>\n",
       "      <td>M2_002</td>\n",
       "      <td>M2</td>\n",
       "    </tr>\n",
       "    <tr>\n",
       "      <th>14</th>\n",
       "      <td>156.25984</td>\n",
       "      <td>7.5</td>\n",
       "      <td>M2_003</td>\n",
       "      <td>M2</td>\n",
       "    </tr>\n",
       "    <tr>\n",
       "      <th>15</th>\n",
       "      <td>164.19584</td>\n",
       "      <td>7.5</td>\n",
       "      <td>Baseline_004</td>\n",
       "      <td>Baseline</td>\n",
       "    </tr>\n",
       "  </tbody>\n",
       "</table>\n",
       "</div>"
      ],
      "text/plain": [
       "        onset  duration    trial_type     class\n",
       "0    22.06208       7.5        M1_001        M1\n",
       "1    30.07744       7.5        M1_002        M1\n",
       "2    38.09280       7.5        M1_003        M1\n",
       "3    46.10816       7.5  Baseline_001  Baseline\n",
       "4    61.10720       7.5        M4_001        M4\n",
       "5    69.12256       7.5        M4_002        M4\n",
       "6    77.13792       7.5        M4_003        M4\n",
       "7    85.15328       7.5  Baseline_002  Baseline\n",
       "8   101.18400       7.5        M3_001        M3\n",
       "9   109.12000       7.5        M3_002        M3\n",
       "10  117.13536       7.5        M3_003        M3\n",
       "11  125.15072       7.5  Baseline_003  Baseline\n",
       "12  140.22912       7.5        M2_001        M2\n",
       "13  148.24448       7.5        M2_002        M2\n",
       "14  156.25984       7.5        M2_003        M2\n",
       "15  164.19584       7.5  Baseline_004  Baseline"
      ]
     },
     "execution_count": 25,
     "metadata": {},
     "output_type": "execute_result"
    }
   ],
   "source": [
    "events_df_lsa"
   ]
  },
  {
   "cell_type": "code",
   "execution_count": 26,
   "metadata": {},
   "outputs": [
    {
     "name": "stdout",
     "output_type": "stream",
     "text": [
      "[0.000000e+00 7.940000e-02 1.588000e-01 ... 1.790470e+02 1.791264e+02\n",
      " 1.792058e+02]\n"
     ]
    }
   ],
   "source": [
    "# create frame_times\n",
    "frame_times = raw_haemo.times\n",
    "\n",
    "print(frame_times)"
   ]
  },
  {
   "cell_type": "code",
   "execution_count": 27,
   "metadata": {},
   "outputs": [
    {
     "name": "stderr",
     "output_type": "stream",
     "text": [
      "/opt/anaconda3/envs/MNE-NIRS/lib/python3.12/site-packages/nilearn/glm/first_level/experimental_paradigm.py:167: UserWarning: The following unexpected columns in events data will be ignored: class\n",
      "  warnings.warn(\n"
     ]
    }
   ],
   "source": [
    "\n",
    "\n",
    "\n",
    "design_matrix = make_first_level_design_matrix(frame_times, \n",
    "                                               events_df_lsa,\n",
    "                                               drift_model='polynomial',\n",
    "                                               high_pass=0.005,  # Must be specified per experiment\n",
    "                                               hrf_model='spm')\n",
    "\n",
    "\n",
    "# Remove Baseline from design matrix\n",
    "# design_matrix = design_matrix.drop(columns=['Baseline'])\n",
    "\n",
    "# Add columns for the events_df_lsa columns\n",
    "\n",
    "\n",
    "\n",
    "\n"
   ]
  },
  {
   "cell_type": "markdown",
   "metadata": {},
   "source": [
    "### 3.1.2 Short channels"
   ]
  },
  {
   "cell_type": "code",
   "execution_count": 28,
   "metadata": {},
   "outputs": [],
   "source": [
    "\n",
    "# Add short channels to the design matrix\n",
    "short_ch_names =  short_haemo.ch_names\n",
    "\n",
    "# for each name in shortch_names\n",
    "for name in short_ch_names:\n",
    "\n",
    "    # get the data from the short channel    \n",
    "    design_matrix[name] = short_haemo.copy().pick(picks=name).get_data().transpose()"
   ]
  },
  {
   "cell_type": "markdown",
   "metadata": {},
   "source": [
    "### 3.1.3 Add auxiliary data - physio"
   ]
  },
  {
   "cell_type": "code",
   "execution_count": 29,
   "metadata": {},
   "outputs": [],
   "source": [
    "import h5py\n",
    "from scipy import interpolate\n",
    "\n",
    "fname = snirf_file[0]\n"
   ]
  },
  {
   "cell_type": "code",
   "execution_count": 30,
   "metadata": {},
   "outputs": [],
   "source": [
    "def _decode_name(key):\n",
    "    return np.array(key).astype(str)"
   ]
  },
  {
   "cell_type": "code",
   "execution_count": 31,
   "metadata": {},
   "outputs": [],
   "source": [
    "def _get_data_idx(timeseries, t_ref):\n",
    "    \"\"\"Get the index of the closest time point in the timeseries.\"\"\"\n",
    "    return np.argmin(np.abs(timeseries - t_ref))"
   ]
  },
  {
   "cell_type": "code",
   "execution_count": 32,
   "metadata": {},
   "outputs": [],
   "source": [
    "def _trim_aux_data(aux_data, init_idx, end_idx):\n",
    "    \"\"\"Trim the auxiliary data to the specified time window.\"\"\"\n",
    "    if aux_data is None:\n",
    "        return None\n",
    "    else:\n",
    "        return aux_data[init_idx:end_idx]\n",
    "    "
   ]
  },
  {
   "cell_type": "code",
   "execution_count": 33,
   "metadata": {},
   "outputs": [],
   "source": [
    "with h5py.File(fname, \"r\") as dat:\n",
    "        if \"nirs\" in dat:\n",
    "            basename = \"nirs\"\n",
    "        elif \"nirs1\" in dat:\n",
    "            basename = \"nirs1\"\n",
    "        else:\n",
    "            raise RuntimeError(\"Data does not contain nirs field\")\n",
    "\n",
    "        all_keys = list(dat.get(basename).keys())\n",
    "        aux_keys = [i for i in all_keys if i.startswith(\"aux\")]\n",
    "\n",
    "        aux_names = [_decode_name(dat.get(f\"{basename}/{k}/name\")) for k in aux_keys]\n",
    "\n",
    "        d = {\"times\": raw_haemo.times}\n",
    "        for idx, aux in enumerate(aux_keys):\n",
    "            aux_data = np.array(dat.get(f\"{basename}/{aux}/dataTimeSeries\"))\n",
    "            aux_time = np.array(dat.get(f\"{basename}/{aux}/time\"))\n",
    "\n",
    "            # print(aux_data.shape)\n",
    "            trim_idx_init = _get_data_idx(aux_time, tmin)\n",
    "            trim_idx_end = _get_data_idx(aux_time, tmax)\n",
    "\n",
    "            aux_data = _trim_aux_data(aux_data, trim_idx_init, trim_idx_end)   \n",
    "            aux_time = _trim_aux_data(aux_time, trim_idx_init, trim_idx_end)\n",
    "\n",
    "            aux_data_interp = interpolate.interp1d(\n",
    "                aux_time, aux_data, axis=0, bounds_error=False, fill_value=\"extrapolate\"\n",
    "            )\n",
    "            aux_data_matched_to_raw = aux_data_interp(raw_haemo.times)\n",
    "            \n",
    "            # print(aux_data_matched_to_raw.ndim)\n",
    "\n",
    "            # Remove single dimension\n",
    "            if aux_data_matched_to_raw.ndim == 2:\n",
    "                aux_data_matched_to_raw = aux_data_matched_to_raw[:,0]\n",
    "            \n",
    "            d[str(aux_names[idx])] = aux_data_matched_to_raw\n",
    "\n",
    "\n",
    "        df = pd.DataFrame(data=d)\n",
    "        df = df.set_index(\"times\")\n",
    "\n",
    "   "
   ]
  },
  {
   "cell_type": "code",
   "execution_count": 34,
   "metadata": {},
   "outputs": [
    {
     "data": {
      "text/html": [
       "<div>\n",
       "<style scoped>\n",
       "    .dataframe tbody tr th:only-of-type {\n",
       "        vertical-align: middle;\n",
       "    }\n",
       "\n",
       "    .dataframe tbody tr th {\n",
       "        vertical-align: top;\n",
       "    }\n",
       "\n",
       "    .dataframe thead th {\n",
       "        text-align: right;\n",
       "    }\n",
       "</style>\n",
       "<table border=\"1\" class=\"dataframe\">\n",
       "  <thead>\n",
       "    <tr style=\"text-align: right;\">\n",
       "      <th></th>\n",
       "      <th>ACCEL_X_1</th>\n",
       "      <th>ExGa4</th>\n",
       "      <th>ECG</th>\n",
       "      <th>Respiration</th>\n",
       "      <th>PPG</th>\n",
       "      <th>SpO2</th>\n",
       "      <th>Heartrate</th>\n",
       "      <th>GSR</th>\n",
       "      <th>Temperature</th>\n",
       "      <th>ACCEL_Y_1</th>\n",
       "      <th>ACCEL_Z_1</th>\n",
       "      <th>GYRO_X_1</th>\n",
       "      <th>GYRO_Y_1</th>\n",
       "      <th>GYRO_Z_1</th>\n",
       "      <th>ExGa1</th>\n",
       "      <th>ExGa2</th>\n",
       "      <th>ExGa3</th>\n",
       "    </tr>\n",
       "    <tr>\n",
       "      <th>times</th>\n",
       "      <th></th>\n",
       "      <th></th>\n",
       "      <th></th>\n",
       "      <th></th>\n",
       "      <th></th>\n",
       "      <th></th>\n",
       "      <th></th>\n",
       "      <th></th>\n",
       "      <th></th>\n",
       "      <th></th>\n",
       "      <th></th>\n",
       "      <th></th>\n",
       "      <th></th>\n",
       "      <th></th>\n",
       "      <th></th>\n",
       "      <th></th>\n",
       "      <th></th>\n",
       "    </tr>\n",
       "  </thead>\n",
       "  <tbody>\n",
       "    <tr>\n",
       "      <th>0.0000</th>\n",
       "      <td>7.017775</td>\n",
       "      <td>10.570205</td>\n",
       "      <td>0.007366</td>\n",
       "      <td>67.960401</td>\n",
       "      <td>16.320000</td>\n",
       "      <td>100.0</td>\n",
       "      <td>75.0</td>\n",
       "      <td>25.845417</td>\n",
       "      <td>21.3125</td>\n",
       "      <td>-22.923386</td>\n",
       "      <td>-15.755008</td>\n",
       "      <td>70.362512</td>\n",
       "      <td>-23.506405</td>\n",
       "      <td>13.339702</td>\n",
       "      <td>0.053079</td>\n",
       "      <td>8.554860</td>\n",
       "      <td>24.427391</td>\n",
       "    </tr>\n",
       "    <tr>\n",
       "      <th>0.0794</th>\n",
       "      <td>6.810381</td>\n",
       "      <td>10.163367</td>\n",
       "      <td>0.007086</td>\n",
       "      <td>68.870286</td>\n",
       "      <td>16.320000</td>\n",
       "      <td>100.0</td>\n",
       "      <td>75.0</td>\n",
       "      <td>25.915512</td>\n",
       "      <td>21.3125</td>\n",
       "      <td>-22.428831</td>\n",
       "      <td>-15.124849</td>\n",
       "      <td>67.929620</td>\n",
       "      <td>-22.533248</td>\n",
       "      <td>12.853124</td>\n",
       "      <td>0.051050</td>\n",
       "      <td>8.225228</td>\n",
       "      <td>23.485958</td>\n",
       "    </tr>\n",
       "    <tr>\n",
       "      <th>0.1588</th>\n",
       "      <td>6.602987</td>\n",
       "      <td>9.756530</td>\n",
       "      <td>0.006806</td>\n",
       "      <td>69.780170</td>\n",
       "      <td>16.320000</td>\n",
       "      <td>100.0</td>\n",
       "      <td>75.0</td>\n",
       "      <td>25.985608</td>\n",
       "      <td>21.3125</td>\n",
       "      <td>-21.934276</td>\n",
       "      <td>-14.494690</td>\n",
       "      <td>65.496729</td>\n",
       "      <td>-21.560092</td>\n",
       "      <td>12.366546</td>\n",
       "      <td>0.049021</td>\n",
       "      <td>7.895597</td>\n",
       "      <td>22.544525</td>\n",
       "    </tr>\n",
       "    <tr>\n",
       "      <th>0.2382</th>\n",
       "      <td>6.395593</td>\n",
       "      <td>9.349692</td>\n",
       "      <td>0.006526</td>\n",
       "      <td>70.690054</td>\n",
       "      <td>16.320000</td>\n",
       "      <td>100.0</td>\n",
       "      <td>75.0</td>\n",
       "      <td>26.055703</td>\n",
       "      <td>21.3125</td>\n",
       "      <td>-21.439721</td>\n",
       "      <td>-13.864532</td>\n",
       "      <td>63.063838</td>\n",
       "      <td>-20.586935</td>\n",
       "      <td>11.879968</td>\n",
       "      <td>0.046991</td>\n",
       "      <td>7.565965</td>\n",
       "      <td>21.603092</td>\n",
       "    </tr>\n",
       "    <tr>\n",
       "      <th>0.3176</th>\n",
       "      <td>6.188199</td>\n",
       "      <td>8.942854</td>\n",
       "      <td>0.006246</td>\n",
       "      <td>71.599939</td>\n",
       "      <td>16.320000</td>\n",
       "      <td>100.0</td>\n",
       "      <td>75.0</td>\n",
       "      <td>26.125798</td>\n",
       "      <td>21.3125</td>\n",
       "      <td>-20.945166</td>\n",
       "      <td>-13.234373</td>\n",
       "      <td>60.630946</td>\n",
       "      <td>-19.613779</td>\n",
       "      <td>11.393389</td>\n",
       "      <td>0.044962</td>\n",
       "      <td>7.236333</td>\n",
       "      <td>20.661658</td>\n",
       "    </tr>\n",
       "    <tr>\n",
       "      <th>...</th>\n",
       "      <td>...</td>\n",
       "      <td>...</td>\n",
       "      <td>...</td>\n",
       "      <td>...</td>\n",
       "      <td>...</td>\n",
       "      <td>...</td>\n",
       "      <td>...</td>\n",
       "      <td>...</td>\n",
       "      <td>...</td>\n",
       "      <td>...</td>\n",
       "      <td>...</td>\n",
       "      <td>...</td>\n",
       "      <td>...</td>\n",
       "      <td>...</td>\n",
       "      <td>...</td>\n",
       "      <td>...</td>\n",
       "      <td>...</td>\n",
       "    </tr>\n",
       "    <tr>\n",
       "      <th>178.8882</th>\n",
       "      <td>1.691533</td>\n",
       "      <td>-0.031498</td>\n",
       "      <td>0.000041</td>\n",
       "      <td>92.203796</td>\n",
       "      <td>16.334000</td>\n",
       "      <td>100.0</td>\n",
       "      <td>70.0</td>\n",
       "      <td>35.495811</td>\n",
       "      <td>21.5000</td>\n",
       "      <td>-10.039893</td>\n",
       "      <td>0.768332</td>\n",
       "      <td>0.332650</td>\n",
       "      <td>-0.366000</td>\n",
       "      <td>0.199252</td>\n",
       "      <td>0.000855</td>\n",
       "      <td>-0.030338</td>\n",
       "      <td>-0.084252</td>\n",
       "    </tr>\n",
       "    <tr>\n",
       "      <th>178.9676</th>\n",
       "      <td>1.584844</td>\n",
       "      <td>-0.027600</td>\n",
       "      <td>0.000056</td>\n",
       "      <td>91.905769</td>\n",
       "      <td>16.372999</td>\n",
       "      <td>100.0</td>\n",
       "      <td>70.0</td>\n",
       "      <td>35.492781</td>\n",
       "      <td>21.4375</td>\n",
       "      <td>-10.047248</td>\n",
       "      <td>0.695174</td>\n",
       "      <td>-0.888018</td>\n",
       "      <td>-0.127037</td>\n",
       "      <td>0.310037</td>\n",
       "      <td>0.000861</td>\n",
       "      <td>-0.028220</td>\n",
       "      <td>-0.080192</td>\n",
       "    </tr>\n",
       "    <tr>\n",
       "      <th>179.0470</th>\n",
       "      <td>1.642540</td>\n",
       "      <td>-0.022876</td>\n",
       "      <td>0.000155</td>\n",
       "      <td>91.859924</td>\n",
       "      <td>16.500999</td>\n",
       "      <td>100.0</td>\n",
       "      <td>70.0</td>\n",
       "      <td>35.494389</td>\n",
       "      <td>21.4375</td>\n",
       "      <td>-10.040464</td>\n",
       "      <td>0.736857</td>\n",
       "      <td>0.276687</td>\n",
       "      <td>-0.300626</td>\n",
       "      <td>0.450939</td>\n",
       "      <td>0.000868</td>\n",
       "      <td>-0.025572</td>\n",
       "      <td>-0.075265</td>\n",
       "    </tr>\n",
       "    <tr>\n",
       "      <th>179.1264</th>\n",
       "      <td>1.663448</td>\n",
       "      <td>-0.018513</td>\n",
       "      <td>0.000164</td>\n",
       "      <td>91.814072</td>\n",
       "      <td>16.450789</td>\n",
       "      <td>100.0</td>\n",
       "      <td>70.0</td>\n",
       "      <td>35.500208</td>\n",
       "      <td>21.4375</td>\n",
       "      <td>-10.052367</td>\n",
       "      <td>0.710083</td>\n",
       "      <td>0.728270</td>\n",
       "      <td>0.329905</td>\n",
       "      <td>0.476811</td>\n",
       "      <td>0.000871</td>\n",
       "      <td>-0.022771</td>\n",
       "      <td>-0.069215</td>\n",
       "    </tr>\n",
       "    <tr>\n",
       "      <th>179.2058</th>\n",
       "      <td>1.649732</td>\n",
       "      <td>-0.014212</td>\n",
       "      <td>0.000173</td>\n",
       "      <td>91.836998</td>\n",
       "      <td>16.393794</td>\n",
       "      <td>100.0</td>\n",
       "      <td>70.0</td>\n",
       "      <td>35.498935</td>\n",
       "      <td>21.4375</td>\n",
       "      <td>-10.061000</td>\n",
       "      <td>0.754093</td>\n",
       "      <td>0.183000</td>\n",
       "      <td>-0.059110</td>\n",
       "      <td>0.698665</td>\n",
       "      <td>0.000880</td>\n",
       "      <td>-0.019967</td>\n",
       "      <td>-0.063380</td>\n",
       "    </tr>\n",
       "  </tbody>\n",
       "</table>\n",
       "<p>2258 rows × 17 columns</p>\n",
       "</div>"
      ],
      "text/plain": [
       "          ACCEL_X_1      ExGa4       ECG  Respiration        PPG   SpO2  \\\n",
       "times                                                                     \n",
       "0.0000     7.017775  10.570205  0.007366    67.960401  16.320000  100.0   \n",
       "0.0794     6.810381  10.163367  0.007086    68.870286  16.320000  100.0   \n",
       "0.1588     6.602987   9.756530  0.006806    69.780170  16.320000  100.0   \n",
       "0.2382     6.395593   9.349692  0.006526    70.690054  16.320000  100.0   \n",
       "0.3176     6.188199   8.942854  0.006246    71.599939  16.320000  100.0   \n",
       "...             ...        ...       ...          ...        ...    ...   \n",
       "178.8882   1.691533  -0.031498  0.000041    92.203796  16.334000  100.0   \n",
       "178.9676   1.584844  -0.027600  0.000056    91.905769  16.372999  100.0   \n",
       "179.0470   1.642540  -0.022876  0.000155    91.859924  16.500999  100.0   \n",
       "179.1264   1.663448  -0.018513  0.000164    91.814072  16.450789  100.0   \n",
       "179.2058   1.649732  -0.014212  0.000173    91.836998  16.393794  100.0   \n",
       "\n",
       "          Heartrate        GSR  Temperature  ACCEL_Y_1  ACCEL_Z_1   GYRO_X_1  \\\n",
       "times                                                                          \n",
       "0.0000         75.0  25.845417      21.3125 -22.923386 -15.755008  70.362512   \n",
       "0.0794         75.0  25.915512      21.3125 -22.428831 -15.124849  67.929620   \n",
       "0.1588         75.0  25.985608      21.3125 -21.934276 -14.494690  65.496729   \n",
       "0.2382         75.0  26.055703      21.3125 -21.439721 -13.864532  63.063838   \n",
       "0.3176         75.0  26.125798      21.3125 -20.945166 -13.234373  60.630946   \n",
       "...             ...        ...          ...        ...        ...        ...   \n",
       "178.8882       70.0  35.495811      21.5000 -10.039893   0.768332   0.332650   \n",
       "178.9676       70.0  35.492781      21.4375 -10.047248   0.695174  -0.888018   \n",
       "179.0470       70.0  35.494389      21.4375 -10.040464   0.736857   0.276687   \n",
       "179.1264       70.0  35.500208      21.4375 -10.052367   0.710083   0.728270   \n",
       "179.2058       70.0  35.498935      21.4375 -10.061000   0.754093   0.183000   \n",
       "\n",
       "           GYRO_Y_1   GYRO_Z_1     ExGa1     ExGa2      ExGa3  \n",
       "times                                                          \n",
       "0.0000   -23.506405  13.339702  0.053079  8.554860  24.427391  \n",
       "0.0794   -22.533248  12.853124  0.051050  8.225228  23.485958  \n",
       "0.1588   -21.560092  12.366546  0.049021  7.895597  22.544525  \n",
       "0.2382   -20.586935  11.879968  0.046991  7.565965  21.603092  \n",
       "0.3176   -19.613779  11.393389  0.044962  7.236333  20.661658  \n",
       "...             ...        ...       ...       ...        ...  \n",
       "178.8882  -0.366000   0.199252  0.000855 -0.030338  -0.084252  \n",
       "178.9676  -0.127037   0.310037  0.000861 -0.028220  -0.080192  \n",
       "179.0470  -0.300626   0.450939  0.000868 -0.025572  -0.075265  \n",
       "179.1264   0.329905   0.476811  0.000871 -0.022771  -0.069215  \n",
       "179.2058  -0.059110   0.698665  0.000880 -0.019967  -0.063380  \n",
       "\n",
       "[2258 rows x 17 columns]"
      ]
     },
     "execution_count": 34,
     "metadata": {},
     "output_type": "execute_result"
    }
   ],
   "source": [
    "df"
   ]
  },
  {
   "cell_type": "code",
   "execution_count": 35,
   "metadata": {},
   "outputs": [
    {
     "data": {
      "text/plain": [
       "(2258, 82)"
      ]
     },
     "execution_count": 35,
     "metadata": {},
     "output_type": "execute_result"
    }
   ],
   "source": [
    "design_matrix.shape"
   ]
  },
  {
   "cell_type": "code",
   "execution_count": 36,
   "metadata": {},
   "outputs": [
    {
     "data": {
      "text/html": [
       "<div>\n",
       "<style scoped>\n",
       "    .dataframe tbody tr th:only-of-type {\n",
       "        vertical-align: middle;\n",
       "    }\n",
       "\n",
       "    .dataframe tbody tr th {\n",
       "        vertical-align: top;\n",
       "    }\n",
       "\n",
       "    .dataframe thead th {\n",
       "        text-align: right;\n",
       "    }\n",
       "</style>\n",
       "<table border=\"1\" class=\"dataframe\">\n",
       "  <thead>\n",
       "    <tr style=\"text-align: right;\">\n",
       "      <th></th>\n",
       "      <th>Baseline_001</th>\n",
       "      <th>Baseline_002</th>\n",
       "      <th>Baseline_003</th>\n",
       "      <th>Baseline_004</th>\n",
       "      <th>M1_001</th>\n",
       "      <th>M1_002</th>\n",
       "      <th>M1_003</th>\n",
       "      <th>M2_001</th>\n",
       "      <th>M2_002</th>\n",
       "      <th>M2_003</th>\n",
       "      <th>...</th>\n",
       "      <th>GSR</th>\n",
       "      <th>Temperature</th>\n",
       "      <th>ACCEL_Y_1</th>\n",
       "      <th>ACCEL_Z_1</th>\n",
       "      <th>GYRO_X_1</th>\n",
       "      <th>GYRO_Y_1</th>\n",
       "      <th>GYRO_Z_1</th>\n",
       "      <th>ExGa1</th>\n",
       "      <th>ExGa2</th>\n",
       "      <th>ExGa3</th>\n",
       "    </tr>\n",
       "  </thead>\n",
       "  <tbody>\n",
       "    <tr>\n",
       "      <th>0.0000</th>\n",
       "      <td>0.0</td>\n",
       "      <td>0.0</td>\n",
       "      <td>0.0</td>\n",
       "      <td>0.000000</td>\n",
       "      <td>0.0</td>\n",
       "      <td>0.0</td>\n",
       "      <td>0.0</td>\n",
       "      <td>0.000000</td>\n",
       "      <td>0.000000</td>\n",
       "      <td>0.000000</td>\n",
       "      <td>...</td>\n",
       "      <td>25.845417</td>\n",
       "      <td>21.3125</td>\n",
       "      <td>-22.923386</td>\n",
       "      <td>-15.755008</td>\n",
       "      <td>70.362512</td>\n",
       "      <td>-23.506405</td>\n",
       "      <td>13.339702</td>\n",
       "      <td>0.053079</td>\n",
       "      <td>8.554860</td>\n",
       "      <td>24.427391</td>\n",
       "    </tr>\n",
       "    <tr>\n",
       "      <th>0.0794</th>\n",
       "      <td>0.0</td>\n",
       "      <td>0.0</td>\n",
       "      <td>0.0</td>\n",
       "      <td>0.000000</td>\n",
       "      <td>0.0</td>\n",
       "      <td>0.0</td>\n",
       "      <td>0.0</td>\n",
       "      <td>0.000000</td>\n",
       "      <td>0.000000</td>\n",
       "      <td>0.000000</td>\n",
       "      <td>...</td>\n",
       "      <td>25.915512</td>\n",
       "      <td>21.3125</td>\n",
       "      <td>-22.428831</td>\n",
       "      <td>-15.124849</td>\n",
       "      <td>67.929620</td>\n",
       "      <td>-22.533248</td>\n",
       "      <td>12.853124</td>\n",
       "      <td>0.051050</td>\n",
       "      <td>8.225228</td>\n",
       "      <td>23.485958</td>\n",
       "    </tr>\n",
       "    <tr>\n",
       "      <th>0.1588</th>\n",
       "      <td>0.0</td>\n",
       "      <td>0.0</td>\n",
       "      <td>0.0</td>\n",
       "      <td>0.000000</td>\n",
       "      <td>0.0</td>\n",
       "      <td>0.0</td>\n",
       "      <td>0.0</td>\n",
       "      <td>0.000000</td>\n",
       "      <td>0.000000</td>\n",
       "      <td>0.000000</td>\n",
       "      <td>...</td>\n",
       "      <td>25.985608</td>\n",
       "      <td>21.3125</td>\n",
       "      <td>-21.934276</td>\n",
       "      <td>-14.494690</td>\n",
       "      <td>65.496729</td>\n",
       "      <td>-21.560092</td>\n",
       "      <td>12.366546</td>\n",
       "      <td>0.049021</td>\n",
       "      <td>7.895597</td>\n",
       "      <td>22.544525</td>\n",
       "    </tr>\n",
       "    <tr>\n",
       "      <th>0.2382</th>\n",
       "      <td>0.0</td>\n",
       "      <td>0.0</td>\n",
       "      <td>0.0</td>\n",
       "      <td>0.000000</td>\n",
       "      <td>0.0</td>\n",
       "      <td>0.0</td>\n",
       "      <td>0.0</td>\n",
       "      <td>0.000000</td>\n",
       "      <td>0.000000</td>\n",
       "      <td>0.000000</td>\n",
       "      <td>...</td>\n",
       "      <td>26.055703</td>\n",
       "      <td>21.3125</td>\n",
       "      <td>-21.439721</td>\n",
       "      <td>-13.864532</td>\n",
       "      <td>63.063838</td>\n",
       "      <td>-20.586935</td>\n",
       "      <td>11.879968</td>\n",
       "      <td>0.046991</td>\n",
       "      <td>7.565965</td>\n",
       "      <td>21.603092</td>\n",
       "    </tr>\n",
       "    <tr>\n",
       "      <th>0.3176</th>\n",
       "      <td>0.0</td>\n",
       "      <td>0.0</td>\n",
       "      <td>0.0</td>\n",
       "      <td>0.000000</td>\n",
       "      <td>0.0</td>\n",
       "      <td>0.0</td>\n",
       "      <td>0.0</td>\n",
       "      <td>0.000000</td>\n",
       "      <td>0.000000</td>\n",
       "      <td>0.000000</td>\n",
       "      <td>...</td>\n",
       "      <td>26.125798</td>\n",
       "      <td>21.3125</td>\n",
       "      <td>-20.945166</td>\n",
       "      <td>-13.234373</td>\n",
       "      <td>60.630946</td>\n",
       "      <td>-19.613779</td>\n",
       "      <td>11.393389</td>\n",
       "      <td>0.044962</td>\n",
       "      <td>7.236333</td>\n",
       "      <td>20.661658</td>\n",
       "    </tr>\n",
       "    <tr>\n",
       "      <th>...</th>\n",
       "      <td>...</td>\n",
       "      <td>...</td>\n",
       "      <td>...</td>\n",
       "      <td>...</td>\n",
       "      <td>...</td>\n",
       "      <td>...</td>\n",
       "      <td>...</td>\n",
       "      <td>...</td>\n",
       "      <td>...</td>\n",
       "      <td>...</td>\n",
       "      <td>...</td>\n",
       "      <td>...</td>\n",
       "      <td>...</td>\n",
       "      <td>...</td>\n",
       "      <td>...</td>\n",
       "      <td>...</td>\n",
       "      <td>...</td>\n",
       "      <td>...</td>\n",
       "      <td>...</td>\n",
       "      <td>...</td>\n",
       "      <td>...</td>\n",
       "    </tr>\n",
       "    <tr>\n",
       "      <th>178.8882</th>\n",
       "      <td>0.0</td>\n",
       "      <td>0.0</td>\n",
       "      <td>0.0</td>\n",
       "      <td>0.248586</td>\n",
       "      <td>0.0</td>\n",
       "      <td>0.0</td>\n",
       "      <td>0.0</td>\n",
       "      <td>-0.000078</td>\n",
       "      <td>-0.009549</td>\n",
       "      <td>-0.096116</td>\n",
       "      <td>...</td>\n",
       "      <td>35.495811</td>\n",
       "      <td>21.5000</td>\n",
       "      <td>-10.039893</td>\n",
       "      <td>0.768332</td>\n",
       "      <td>0.332650</td>\n",
       "      <td>-0.366000</td>\n",
       "      <td>0.199252</td>\n",
       "      <td>0.000855</td>\n",
       "      <td>-0.030338</td>\n",
       "      <td>-0.084252</td>\n",
       "    </tr>\n",
       "    <tr>\n",
       "      <th>178.9676</th>\n",
       "      <td>0.0</td>\n",
       "      <td>0.0</td>\n",
       "      <td>0.0</td>\n",
       "      <td>0.235884</td>\n",
       "      <td>0.0</td>\n",
       "      <td>0.0</td>\n",
       "      <td>0.0</td>\n",
       "      <td>-0.000069</td>\n",
       "      <td>-0.009249</td>\n",
       "      <td>-0.095025</td>\n",
       "      <td>...</td>\n",
       "      <td>35.492781</td>\n",
       "      <td>21.4375</td>\n",
       "      <td>-10.047248</td>\n",
       "      <td>0.695174</td>\n",
       "      <td>-0.888018</td>\n",
       "      <td>-0.127037</td>\n",
       "      <td>0.310037</td>\n",
       "      <td>0.000861</td>\n",
       "      <td>-0.028220</td>\n",
       "      <td>-0.080192</td>\n",
       "    </tr>\n",
       "    <tr>\n",
       "      <th>179.0470</th>\n",
       "      <td>0.0</td>\n",
       "      <td>0.0</td>\n",
       "      <td>0.0</td>\n",
       "      <td>0.223454</td>\n",
       "      <td>0.0</td>\n",
       "      <td>0.0</td>\n",
       "      <td>0.0</td>\n",
       "      <td>-0.000060</td>\n",
       "      <td>-0.008957</td>\n",
       "      <td>-0.093917</td>\n",
       "      <td>...</td>\n",
       "      <td>35.494389</td>\n",
       "      <td>21.4375</td>\n",
       "      <td>-10.040464</td>\n",
       "      <td>0.736857</td>\n",
       "      <td>0.276687</td>\n",
       "      <td>-0.300626</td>\n",
       "      <td>0.450939</td>\n",
       "      <td>0.000868</td>\n",
       "      <td>-0.025572</td>\n",
       "      <td>-0.075265</td>\n",
       "    </tr>\n",
       "    <tr>\n",
       "      <th>179.1264</th>\n",
       "      <td>0.0</td>\n",
       "      <td>0.0</td>\n",
       "      <td>0.0</td>\n",
       "      <td>0.211296</td>\n",
       "      <td>0.0</td>\n",
       "      <td>0.0</td>\n",
       "      <td>0.0</td>\n",
       "      <td>-0.000052</td>\n",
       "      <td>-0.008673</td>\n",
       "      <td>-0.092793</td>\n",
       "      <td>...</td>\n",
       "      <td>35.500208</td>\n",
       "      <td>21.4375</td>\n",
       "      <td>-10.052367</td>\n",
       "      <td>0.710083</td>\n",
       "      <td>0.728270</td>\n",
       "      <td>0.329905</td>\n",
       "      <td>0.476811</td>\n",
       "      <td>0.000871</td>\n",
       "      <td>-0.022771</td>\n",
       "      <td>-0.069215</td>\n",
       "    </tr>\n",
       "    <tr>\n",
       "      <th>179.2058</th>\n",
       "      <td>0.0</td>\n",
       "      <td>0.0</td>\n",
       "      <td>0.0</td>\n",
       "      <td>0.199410</td>\n",
       "      <td>0.0</td>\n",
       "      <td>0.0</td>\n",
       "      <td>0.0</td>\n",
       "      <td>-0.000044</td>\n",
       "      <td>-0.008397</td>\n",
       "      <td>-0.091656</td>\n",
       "      <td>...</td>\n",
       "      <td>35.498935</td>\n",
       "      <td>21.4375</td>\n",
       "      <td>-10.061000</td>\n",
       "      <td>0.754093</td>\n",
       "      <td>0.183000</td>\n",
       "      <td>-0.059110</td>\n",
       "      <td>0.698665</td>\n",
       "      <td>0.000880</td>\n",
       "      <td>-0.019967</td>\n",
       "      <td>-0.063380</td>\n",
       "    </tr>\n",
       "  </tbody>\n",
       "</table>\n",
       "<p>2258 rows × 99 columns</p>\n",
       "</div>"
      ],
      "text/plain": [
       "          Baseline_001  Baseline_002  Baseline_003  Baseline_004  M1_001  \\\n",
       "0.0000             0.0           0.0           0.0      0.000000     0.0   \n",
       "0.0794             0.0           0.0           0.0      0.000000     0.0   \n",
       "0.1588             0.0           0.0           0.0      0.000000     0.0   \n",
       "0.2382             0.0           0.0           0.0      0.000000     0.0   \n",
       "0.3176             0.0           0.0           0.0      0.000000     0.0   \n",
       "...                ...           ...           ...           ...     ...   \n",
       "178.8882           0.0           0.0           0.0      0.248586     0.0   \n",
       "178.9676           0.0           0.0           0.0      0.235884     0.0   \n",
       "179.0470           0.0           0.0           0.0      0.223454     0.0   \n",
       "179.1264           0.0           0.0           0.0      0.211296     0.0   \n",
       "179.2058           0.0           0.0           0.0      0.199410     0.0   \n",
       "\n",
       "          M1_002  M1_003    M2_001    M2_002    M2_003  ...        GSR  \\\n",
       "0.0000       0.0     0.0  0.000000  0.000000  0.000000  ...  25.845417   \n",
       "0.0794       0.0     0.0  0.000000  0.000000  0.000000  ...  25.915512   \n",
       "0.1588       0.0     0.0  0.000000  0.000000  0.000000  ...  25.985608   \n",
       "0.2382       0.0     0.0  0.000000  0.000000  0.000000  ...  26.055703   \n",
       "0.3176       0.0     0.0  0.000000  0.000000  0.000000  ...  26.125798   \n",
       "...          ...     ...       ...       ...       ...  ...        ...   \n",
       "178.8882     0.0     0.0 -0.000078 -0.009549 -0.096116  ...  35.495811   \n",
       "178.9676     0.0     0.0 -0.000069 -0.009249 -0.095025  ...  35.492781   \n",
       "179.0470     0.0     0.0 -0.000060 -0.008957 -0.093917  ...  35.494389   \n",
       "179.1264     0.0     0.0 -0.000052 -0.008673 -0.092793  ...  35.500208   \n",
       "179.2058     0.0     0.0 -0.000044 -0.008397 -0.091656  ...  35.498935   \n",
       "\n",
       "          Temperature  ACCEL_Y_1  ACCEL_Z_1   GYRO_X_1   GYRO_Y_1   GYRO_Z_1  \\\n",
       "0.0000        21.3125 -22.923386 -15.755008  70.362512 -23.506405  13.339702   \n",
       "0.0794        21.3125 -22.428831 -15.124849  67.929620 -22.533248  12.853124   \n",
       "0.1588        21.3125 -21.934276 -14.494690  65.496729 -21.560092  12.366546   \n",
       "0.2382        21.3125 -21.439721 -13.864532  63.063838 -20.586935  11.879968   \n",
       "0.3176        21.3125 -20.945166 -13.234373  60.630946 -19.613779  11.393389   \n",
       "...               ...        ...        ...        ...        ...        ...   \n",
       "178.8882      21.5000 -10.039893   0.768332   0.332650  -0.366000   0.199252   \n",
       "178.9676      21.4375 -10.047248   0.695174  -0.888018  -0.127037   0.310037   \n",
       "179.0470      21.4375 -10.040464   0.736857   0.276687  -0.300626   0.450939   \n",
       "179.1264      21.4375 -10.052367   0.710083   0.728270   0.329905   0.476811   \n",
       "179.2058      21.4375 -10.061000   0.754093   0.183000  -0.059110   0.698665   \n",
       "\n",
       "             ExGa1     ExGa2      ExGa3  \n",
       "0.0000    0.053079  8.554860  24.427391  \n",
       "0.0794    0.051050  8.225228  23.485958  \n",
       "0.1588    0.049021  7.895597  22.544525  \n",
       "0.2382    0.046991  7.565965  21.603092  \n",
       "0.3176    0.044962  7.236333  20.661658  \n",
       "...            ...       ...        ...  \n",
       "178.8882  0.000855 -0.030338  -0.084252  \n",
       "178.9676  0.000861 -0.028220  -0.080192  \n",
       "179.0470  0.000868 -0.025572  -0.075265  \n",
       "179.1264  0.000871 -0.022771  -0.069215  \n",
       "179.2058  0.000880 -0.019967  -0.063380  \n",
       "\n",
       "[2258 rows x 99 columns]"
      ]
     },
     "execution_count": 36,
     "metadata": {},
     "output_type": "execute_result"
    }
   ],
   "source": [
    "\n",
    "# Add physio data in df to the design matrix\n",
    "design_matrix = design_matrix.join(df, how='outer')\n",
    "\n",
    "design_matrix\n"
   ]
  },
  {
   "cell_type": "markdown",
   "metadata": {},
   "source": [
    "### 3.1.4 Plotting the design matrix"
   ]
  },
  {
   "cell_type": "code",
   "execution_count": 37,
   "metadata": {},
   "outputs": [
    {
     "name": "stderr",
     "output_type": "stream",
     "text": [
      "/opt/anaconda3/envs/MNE-NIRS/lib/python3.12/site-packages/nilearn/plotting/matrix_plotting.py:503: UserWarning: The figure layout has changed to tight\n",
      "  plt.tight_layout()\n"
     ]
    },
    {
     "data": {
      "image/png": "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",
      "text/plain": [
       "<Figure size 1000x600 with 1 Axes>"
      ]
     },
     "metadata": {},
     "output_type": "display_data"
    }
   ],
   "source": [
    "from nilearn.plotting import plot_design_matrix\n",
    "\n",
    "fig, ax1 = plt.subplots(figsize=(10, 6), constrained_layout=True)\n",
    "fig = plot_design_matrix(design_matrix, ax=ax1)\n"
   ]
  },
  {
   "cell_type": "code",
   "execution_count": 38,
   "metadata": {},
   "outputs": [
    {
     "name": "stdout",
     "output_type": "stream",
     "text": [
      "Used Annotations descriptions: ['Baseline', 'M1', 'M2', 'M3', 'M4']\n"
     ]
    },
    {
     "data": {
      "text/plain": [
       "[Text(0.5, 0, 'Time (s)'), Text(0, 0.5, 'Amplitude')]"
      ]
     },
     "execution_count": 38,
     "metadata": {},
     "output_type": "execute_result"
    },
    {
     "data": {
      "image/png": "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",
      "text/plain": [
       "<Figure size 640x480 with 1 Axes>"
      ]
     },
     "metadata": {},
     "output_type": "display_data"
    }
   ],
   "source": [
    "fig, ax = plt.subplots(constrained_layout=True)\n",
    "\n",
    "s = mne_nirs.experimental_design.create_boxcar(raw_intensity, stim_dur=7.5)\n",
    "\n",
    "ax.plot(raw_intensity.times, s[:, 1])\n",
    "ax.plot(design_matrix['M1_001'])\n",
    "ax.legend([\"Stimulus\", \"Expected Response\"])\n",
    "ax.set( xlabel=\"Time (s)\", ylabel=\"Amplitude\")"
   ]
  },
  {
   "cell_type": "markdown",
   "metadata": {},
   "source": [
    "## 3.2 Fit GLM to data and estimate response for Music experimental condition"
   ]
  },
  {
   "cell_type": "code",
<<<<<<< Updated upstream
   "execution_count": 39,
=======
   "execution_count": 97,
>>>>>>> Stashed changes
   "metadata": {},
   "outputs": [],
   "source": [
    "from mne_nirs.statistics import run_glm\n",
    "\n",
    "glm_est = run_glm(long_haemo, design_matrix, noise_model='ar1') # ar(1)\n"
   ]
  },
  {
   "cell_type": "code",
<<<<<<< Updated upstream
   "execution_count": 40,
=======
   "execution_count": 98,
>>>>>>> Stashed changes
   "metadata": {},
   "outputs": [],
   "source": [
    "\n",
    "df_glm = glm_est.to_dataframe()\n",
    "\n"
   ]
  },
  {
   "cell_type": "code",
<<<<<<< Updated upstream
   "execution_count": 41,
=======
   "execution_count": 99,
>>>>>>> Stashed changes
   "metadata": {},
   "outputs": [],
   "source": [
    "# rows of the dataframe with the condition M_001 and M_002 and M_003 or Baseline and ch_name contains hbo without using query\n",
    "\n",
    "df_glm_M = df_glm.query('Condition in [\"M1_001\"] and ch_name.str.contains(\"hbo\")', engine='python')\n"
   ]
  },
  {
   "cell_type": "code",
<<<<<<< Updated upstream
   "execution_count": 42,
=======
   "execution_count": 100,
>>>>>>> Stashed changes
   "metadata": {},
   "outputs": [
    {
     "data": {
      "text/html": [
       "<div>\n",
       "<style scoped>\n",
       "    .dataframe tbody tr th:only-of-type {\n",
       "        vertical-align: middle;\n",
       "    }\n",
       "\n",
       "    .dataframe tbody tr th {\n",
       "        vertical-align: top;\n",
       "    }\n",
       "\n",
       "    .dataframe thead th {\n",
       "        text-align: right;\n",
       "    }\n",
       "</style>\n",
       "<table border=\"1\" class=\"dataframe\">\n",
       "  <thead>\n",
       "    <tr style=\"text-align: right;\">\n",
       "      <th>variable</th>\n",
       "      <th>Condition</th>\n",
       "      <th>df</th>\n",
       "      <th>mse</th>\n",
       "      <th>p_value</th>\n",
       "      <th>se</th>\n",
       "      <th>t</th>\n",
       "      <th>theta</th>\n",
       "      <th>Source</th>\n",
       "      <th>Detector</th>\n",
       "      <th>Chroma</th>\n",
       "      <th>Significant</th>\n",
       "      <th>ch_name</th>\n",
       "    </tr>\n",
       "  </thead>\n",
       "  <tbody>\n",
       "    <tr>\n",
       "      <th>6353</th>\n",
       "      <td>M1_001</td>\n",
       "      <td>99.0</td>\n",
       "      <td>2.626931e-18</td>\n",
       "      <td>3.469288e-04</td>\n",
       "      <td>9.507430e-09</td>\n",
       "      <td>3.706128</td>\n",
       "      <td>3.523575e-08</td>\n",
       "      <td>1</td>\n",
       "      <td>1</td>\n",
       "      <td>hbo</td>\n",
       "      <td>True</td>\n",
       "      <td>S1_D1 hbo</td>\n",
       "    </tr>\n",
       "    <tr>\n",
       "      <th>6551</th>\n",
       "      <td>M1_001</td>\n",
       "      <td>99.0</td>\n",
       "      <td>2.131722e-18</td>\n",
       "      <td>4.264485e-06</td>\n",
       "      <td>9.525847e-09</td>\n",
       "      <td>-4.868217</td>\n",
       "      <td>-4.637389e-08</td>\n",
       "      <td>1</td>\n",
       "      <td>2</td>\n",
       "      <td>hbo</td>\n",
       "      <td>True</td>\n",
       "      <td>S1_D2 hbo</td>\n",
       "    </tr>\n",
       "    <tr>\n",
       "      <th>6749</th>\n",
       "      <td>M1_001</td>\n",
       "      <td>99.0</td>\n",
       "      <td>5.790570e-18</td>\n",
       "      <td>4.388613e-03</td>\n",
       "      <td>1.484536e-08</td>\n",
       "      <td>-2.915787</td>\n",
       "      <td>-4.328591e-08</td>\n",
       "      <td>1</td>\n",
       "      <td>28</td>\n",
       "      <td>hbo</td>\n",
       "      <td>True</td>\n",
       "      <td>S1_D28 hbo</td>\n",
       "    </tr>\n",
       "    <tr>\n",
       "      <th>13481</th>\n",
       "      <td>M1_001</td>\n",
       "      <td>99.0</td>\n",
       "      <td>3.461494e-18</td>\n",
       "      <td>3.479226e-01</td>\n",
       "      <td>1.147789e-08</td>\n",
       "      <td>-0.943106</td>\n",
       "      <td>-1.082486e-08</td>\n",
       "      <td>2</td>\n",
       "      <td>1</td>\n",
       "      <td>hbo</td>\n",
       "      <td>False</td>\n",
       "      <td>S2_D1 hbo</td>\n",
       "    </tr>\n",
       "    <tr>\n",
       "      <th>13679</th>\n",
       "      <td>M1_001</td>\n",
       "      <td>99.0</td>\n",
       "      <td>3.178134e-18</td>\n",
       "      <td>5.530407e-03</td>\n",
       "      <td>1.045743e-08</td>\n",
       "      <td>-2.836596</td>\n",
       "      <td>-2.966350e-08</td>\n",
       "      <td>2</td>\n",
       "      <td>2</td>\n",
       "      <td>hbo</td>\n",
       "      <td>True</td>\n",
       "      <td>S2_D2 hbo</td>\n",
       "    </tr>\n",
       "    <tr>\n",
       "      <th>...</th>\n",
       "      <td>...</td>\n",
       "      <td>...</td>\n",
       "      <td>...</td>\n",
       "      <td>...</td>\n",
       "      <td>...</td>\n",
       "      <td>...</td>\n",
       "      <td>...</td>\n",
       "      <td>...</td>\n",
       "      <td>...</td>\n",
       "      <td>...</td>\n",
       "      <td>...</td>\n",
       "      <td>...</td>\n",
       "    </tr>\n",
       "    <tr>\n",
       "      <th>14273</th>\n",
       "      <td>M1_001</td>\n",
       "      <td>99.0</td>\n",
       "      <td>5.530433e-18</td>\n",
       "      <td>3.846818e-02</td>\n",
       "      <td>1.450807e-08</td>\n",
       "      <td>-2.097814</td>\n",
       "      <td>-3.043523e-08</td>\n",
       "      <td>31</td>\n",
       "      <td>2</td>\n",
       "      <td>hbo</td>\n",
       "      <td>True</td>\n",
       "      <td>S31_D2 hbo</td>\n",
       "    </tr>\n",
       "    <tr>\n",
       "      <th>14471</th>\n",
       "      <td>M1_001</td>\n",
       "      <td>99.0</td>\n",
       "      <td>6.159383e-18</td>\n",
       "      <td>4.108774e-02</td>\n",
       "      <td>1.331260e-08</td>\n",
       "      <td>-2.069667</td>\n",
       "      <td>-2.755266e-08</td>\n",
       "      <td>31</td>\n",
       "      <td>27</td>\n",
       "      <td>hbo</td>\n",
       "      <td>True</td>\n",
       "      <td>S31_D27 hbo</td>\n",
       "    </tr>\n",
       "    <tr>\n",
       "      <th>14669</th>\n",
       "      <td>M1_001</td>\n",
       "      <td>99.0</td>\n",
       "      <td>2.202375e-18</td>\n",
       "      <td>4.045121e-01</td>\n",
       "      <td>7.960495e-09</td>\n",
       "      <td>0.837172</td>\n",
       "      <td>6.664305e-09</td>\n",
       "      <td>31</td>\n",
       "      <td>28</td>\n",
       "      <td>hbo</td>\n",
       "      <td>False</td>\n",
       "      <td>S31_D28 hbo</td>\n",
       "    </tr>\n",
       "    <tr>\n",
       "      <th>14867</th>\n",
       "      <td>M1_001</td>\n",
       "      <td>99.0</td>\n",
       "      <td>3.350787e-18</td>\n",
       "      <td>7.305014e-02</td>\n",
       "      <td>1.073772e-08</td>\n",
       "      <td>-1.811792</td>\n",
       "      <td>-1.945452e-08</td>\n",
       "      <td>32</td>\n",
       "      <td>27</td>\n",
       "      <td>hbo</td>\n",
       "      <td>False</td>\n",
       "      <td>S32_D27 hbo</td>\n",
       "    </tr>\n",
       "    <tr>\n",
       "      <th>15065</th>\n",
       "      <td>M1_001</td>\n",
       "      <td>99.0</td>\n",
       "      <td>5.050898e-18</td>\n",
       "      <td>1.734084e-15</td>\n",
       "      <td>1.318327e-08</td>\n",
       "      <td>-9.449941</td>\n",
       "      <td>-1.245811e-07</td>\n",
       "      <td>32</td>\n",
       "      <td>28</td>\n",
       "      <td>hbo</td>\n",
       "      <td>True</td>\n",
       "      <td>S32_D28 hbo</td>\n",
       "    </tr>\n",
       "  </tbody>\n",
       "</table>\n",
       "<p>98 rows × 12 columns</p>\n",
       "</div>"
      ],
      "text/plain": [
       "variable Condition    df           mse       p_value            se         t  \\\n",
       "6353        M1_001  99.0  2.626931e-18  3.469288e-04  9.507430e-09  3.706128   \n",
       "6551        M1_001  99.0  2.131722e-18  4.264485e-06  9.525847e-09 -4.868217   \n",
       "6749        M1_001  99.0  5.790570e-18  4.388613e-03  1.484536e-08 -2.915787   \n",
       "13481       M1_001  99.0  3.461494e-18  3.479226e-01  1.147789e-08 -0.943106   \n",
       "13679       M1_001  99.0  3.178134e-18  5.530407e-03  1.045743e-08 -2.836596   \n",
       "...            ...   ...           ...           ...           ...       ...   \n",
       "14273       M1_001  99.0  5.530433e-18  3.846818e-02  1.450807e-08 -2.097814   \n",
       "14471       M1_001  99.0  6.159383e-18  4.108774e-02  1.331260e-08 -2.069667   \n",
       "14669       M1_001  99.0  2.202375e-18  4.045121e-01  7.960495e-09  0.837172   \n",
       "14867       M1_001  99.0  3.350787e-18  7.305014e-02  1.073772e-08 -1.811792   \n",
       "15065       M1_001  99.0  5.050898e-18  1.734084e-15  1.318327e-08 -9.449941   \n",
       "\n",
       "variable         theta  Source  Detector Chroma  Significant      ch_name  \n",
       "6353      3.523575e-08       1         1    hbo         True    S1_D1 hbo  \n",
       "6551     -4.637389e-08       1         2    hbo         True    S1_D2 hbo  \n",
       "6749     -4.328591e-08       1        28    hbo         True   S1_D28 hbo  \n",
       "13481    -1.082486e-08       2         1    hbo        False    S2_D1 hbo  \n",
       "13679    -2.966350e-08       2         2    hbo         True    S2_D2 hbo  \n",
       "...                ...     ...       ...    ...          ...          ...  \n",
       "14273    -3.043523e-08      31         2    hbo         True   S31_D2 hbo  \n",
       "14471    -2.755266e-08      31        27    hbo         True  S31_D27 hbo  \n",
       "14669     6.664305e-09      31        28    hbo        False  S31_D28 hbo  \n",
       "14867    -1.945452e-08      32        27    hbo        False  S32_D27 hbo  \n",
       "15065    -1.245811e-07      32        28    hbo         True  S32_D28 hbo  \n",
       "\n",
       "[98 rows x 12 columns]"
      ]
     },
<<<<<<< Updated upstream
     "execution_count": 42,
=======
     "execution_count": 100,
>>>>>>> Stashed changes
     "metadata": {},
     "output_type": "execute_result"
    }
   ],
   "source": [
    "df_glm_M"
   ]
  },
  {
   "cell_type": "code",
<<<<<<< Updated upstream
   "execution_count": 43,
=======
   "execution_count": 101,
>>>>>>> Stashed changes
   "metadata": {},
   "outputs": [
    {
     "data": {
      "text/plain": [
       "Text(0, 0.5, 't-value')"
      ]
     },
<<<<<<< Updated upstream
     "execution_count": 43,
=======
     "execution_count": 101,
>>>>>>> Stashed changes
     "metadata": {},
     "output_type": "execute_result"
    },
    {
     "data": {
      "image/png": "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",
      "text/plain": [
       "<Figure size 1000x600 with 1 Axes>"
      ]
     },
     "metadata": {},
     "output_type": "display_data"
    }
   ],
   "source": [
    "# plot boxplot of the df_glm_M t values using seaborn using Condition as x\n",
    "import seaborn as sns\n",
    "\n",
    "fig, ax = plt.subplots(figsize=(10, 6), constrained_layout=True)\n",
    "sns.boxplot(data=df_glm_M, x='Condition', y='t', ax=ax)\n",
    "ax.set_title('t-values for hbo')\n",
    "ax.set_ylabel('t-value')\n"
   ]
  },
  {
   "cell_type": "code",
<<<<<<< Updated upstream
   "execution_count": 44,
=======
   "execution_count": 102,
>>>>>>> Stashed changes
   "metadata": {},
   "outputs": [
    {
     "data": {
      "text/html": [
       "<div>\n",
       "<style scoped>\n",
       "    .dataframe tbody tr th:only-of-type {\n",
       "        vertical-align: middle;\n",
       "    }\n",
       "\n",
       "    .dataframe tbody tr th {\n",
       "        vertical-align: top;\n",
       "    }\n",
       "\n",
       "    .dataframe thead th {\n",
       "        text-align: right;\n",
       "    }\n",
       "</style>\n",
       "<table border=\"1\" class=\"dataframe\">\n",
       "  <thead>\n",
       "    <tr style=\"text-align: right;\">\n",
       "      <th>variable</th>\n",
       "      <th>Condition</th>\n",
       "      <th>df</th>\n",
       "      <th>mse</th>\n",
       "      <th>p_value</th>\n",
       "      <th>se</th>\n",
       "      <th>t</th>\n",
       "      <th>theta</th>\n",
       "      <th>Source</th>\n",
       "      <th>Detector</th>\n",
       "      <th>Chroma</th>\n",
       "      <th>Significant</th>\n",
       "      <th>ch_name</th>\n",
       "    </tr>\n",
       "  </thead>\n",
       "  <tbody>\n",
       "    <tr>\n",
       "      <th>2195</th>\n",
       "      <td>M1_001</td>\n",
       "      <td>99.0</td>\n",
       "      <td>5.328456e-18</td>\n",
       "      <td>2.384395e-24</td>\n",
       "      <td>1.354065e-08</td>\n",
       "      <td>13.582698</td>\n",
       "      <td>1.839186e-07</td>\n",
       "      <td>13</td>\n",
       "      <td>11</td>\n",
       "      <td>hbo</td>\n",
       "      <td>True</td>\n",
       "      <td>S13_D11 hbo</td>\n",
       "    </tr>\n",
       "    <tr>\n",
       "      <th>8729</th>\n",
       "      <td>M1_001</td>\n",
       "      <td>99.0</td>\n",
       "      <td>4.132278e-18</td>\n",
       "      <td>4.020341e-21</td>\n",
       "      <td>1.413485e-08</td>\n",
       "      <td>12.049568</td>\n",
       "      <td>1.703188e-07</td>\n",
       "      <td>23</td>\n",
       "      <td>19</td>\n",
       "      <td>hbo</td>\n",
       "      <td>True</td>\n",
       "      <td>S23_D19 hbo</td>\n",
       "    </tr>\n",
       "    <tr>\n",
       "      <th>2591</th>\n",
       "      <td>M1_001</td>\n",
       "      <td>99.0</td>\n",
       "      <td>3.759732e-18</td>\n",
       "      <td>2.948005e-20</td>\n",
       "      <td>1.085955e-08</td>\n",
       "      <td>11.645742</td>\n",
       "      <td>1.264675e-07</td>\n",
       "      <td>13</td>\n",
       "      <td>8</td>\n",
       "      <td>hbo</td>\n",
       "      <td>True</td>\n",
       "      <td>S13_D8 hbo</td>\n",
       "    </tr>\n",
       "    <tr>\n",
       "      <th>7739</th>\n",
       "      <td>M1_001</td>\n",
       "      <td>99.0</td>\n",
       "      <td>5.056065e-18</td>\n",
       "      <td>1.187159e-18</td>\n",
       "      <td>1.387192e-08</td>\n",
       "      <td>10.902631</td>\n",
       "      <td>1.512404e-07</td>\n",
       "      <td>21</td>\n",
       "      <td>19</td>\n",
       "      <td>hbo</td>\n",
       "      <td>True</td>\n",
       "      <td>S21_D19 hbo</td>\n",
       "    </tr>\n",
       "    <tr>\n",
       "      <th>18035</th>\n",
       "      <td>M1_001</td>\n",
       "      <td>99.0</td>\n",
       "      <td>2.825562e-18</td>\n",
       "      <td>4.086898e-17</td>\n",
       "      <td>9.414251e-09</td>\n",
       "      <td>10.196089</td>\n",
       "      <td>9.598853e-08</td>\n",
       "      <td>8</td>\n",
       "      <td>4</td>\n",
       "      <td>hbo</td>\n",
       "      <td>True</td>\n",
       "      <td>S8_D4 hbo</td>\n",
       "    </tr>\n",
       "    <tr>\n",
       "      <th>...</th>\n",
       "      <td>...</td>\n",
       "      <td>...</td>\n",
       "      <td>...</td>\n",
       "      <td>...</td>\n",
       "      <td>...</td>\n",
       "      <td>...</td>\n",
       "      <td>...</td>\n",
       "      <td>...</td>\n",
       "      <td>...</td>\n",
       "      <td>...</td>\n",
       "      <td>...</td>\n",
       "      <td>...</td>\n",
       "    </tr>\n",
       "    <tr>\n",
       "      <th>11105</th>\n",
       "      <td>M1_001</td>\n",
       "      <td>99.0</td>\n",
       "      <td>4.878299e-18</td>\n",
       "      <td>8.357723e-15</td>\n",
       "      <td>1.295606e-08</td>\n",
       "      <td>-9.136546</td>\n",
       "      <td>-1.183737e-07</td>\n",
       "      <td>26</td>\n",
       "      <td>22</td>\n",
       "      <td>hbo</td>\n",
       "      <td>True</td>\n",
       "      <td>S26_D22 hbo</td>\n",
       "    </tr>\n",
       "    <tr>\n",
       "      <th>15065</th>\n",
       "      <td>M1_001</td>\n",
       "      <td>99.0</td>\n",
       "      <td>5.050898e-18</td>\n",
       "      <td>1.734084e-15</td>\n",
       "      <td>1.318327e-08</td>\n",
       "      <td>-9.449941</td>\n",
       "      <td>-1.245811e-07</td>\n",
       "      <td>32</td>\n",
       "      <td>28</td>\n",
       "      <td>hbo</td>\n",
       "      <td>True</td>\n",
       "      <td>S32_D28 hbo</td>\n",
       "    </tr>\n",
       "    <tr>\n",
       "      <th>1205</th>\n",
       "      <td>M1_001</td>\n",
       "      <td>99.0</td>\n",
       "      <td>2.878666e-18</td>\n",
       "      <td>3.851878e-17</td>\n",
       "      <td>9.502304e-09</td>\n",
       "      <td>-10.207888</td>\n",
       "      <td>-9.699846e-08</td>\n",
       "      <td>12</td>\n",
       "      <td>10</td>\n",
       "      <td>hbo</td>\n",
       "      <td>True</td>\n",
       "      <td>S12_D10 hbo</td>\n",
       "    </tr>\n",
       "    <tr>\n",
       "      <th>7145</th>\n",
       "      <td>M1_001</td>\n",
       "      <td>99.0</td>\n",
       "      <td>4.840270e-18</td>\n",
       "      <td>4.046481e-18</td>\n",
       "      <td>1.090245e-08</td>\n",
       "      <td>-10.657378</td>\n",
       "      <td>-1.161915e-07</td>\n",
       "      <td>20</td>\n",
       "      <td>16</td>\n",
       "      <td>hbo</td>\n",
       "      <td>True</td>\n",
       "      <td>S20_D16 hbo</td>\n",
       "    </tr>\n",
       "    <tr>\n",
       "      <th>413</th>\n",
       "      <td>M1_001</td>\n",
       "      <td>99.0</td>\n",
       "      <td>8.531466e-18</td>\n",
       "      <td>1.307506e-19</td>\n",
       "      <td>1.801947e-08</td>\n",
       "      <td>-11.345389</td>\n",
       "      <td>-2.044379e-07</td>\n",
       "      <td>10</td>\n",
       "      <td>7</td>\n",
       "      <td>hbo</td>\n",
       "      <td>True</td>\n",
       "      <td>S10_D7 hbo</td>\n",
       "    </tr>\n",
       "  </tbody>\n",
       "</table>\n",
       "<p>98 rows × 12 columns</p>\n",
       "</div>"
      ],
      "text/plain": [
       "variable Condition    df           mse       p_value            se          t  \\\n",
       "2195        M1_001  99.0  5.328456e-18  2.384395e-24  1.354065e-08  13.582698   \n",
       "8729        M1_001  99.0  4.132278e-18  4.020341e-21  1.413485e-08  12.049568   \n",
       "2591        M1_001  99.0  3.759732e-18  2.948005e-20  1.085955e-08  11.645742   \n",
       "7739        M1_001  99.0  5.056065e-18  1.187159e-18  1.387192e-08  10.902631   \n",
       "18035       M1_001  99.0  2.825562e-18  4.086898e-17  9.414251e-09  10.196089   \n",
       "...            ...   ...           ...           ...           ...        ...   \n",
       "11105       M1_001  99.0  4.878299e-18  8.357723e-15  1.295606e-08  -9.136546   \n",
       "15065       M1_001  99.0  5.050898e-18  1.734084e-15  1.318327e-08  -9.449941   \n",
       "1205        M1_001  99.0  2.878666e-18  3.851878e-17  9.502304e-09 -10.207888   \n",
       "7145        M1_001  99.0  4.840270e-18  4.046481e-18  1.090245e-08 -10.657378   \n",
       "413         M1_001  99.0  8.531466e-18  1.307506e-19  1.801947e-08 -11.345389   \n",
       "\n",
       "variable         theta  Source  Detector Chroma  Significant      ch_name  \n",
       "2195      1.839186e-07      13        11    hbo         True  S13_D11 hbo  \n",
       "8729      1.703188e-07      23        19    hbo         True  S23_D19 hbo  \n",
       "2591      1.264675e-07      13         8    hbo         True   S13_D8 hbo  \n",
       "7739      1.512404e-07      21        19    hbo         True  S21_D19 hbo  \n",
       "18035     9.598853e-08       8         4    hbo         True    S8_D4 hbo  \n",
       "...                ...     ...       ...    ...          ...          ...  \n",
       "11105    -1.183737e-07      26        22    hbo         True  S26_D22 hbo  \n",
       "15065    -1.245811e-07      32        28    hbo         True  S32_D28 hbo  \n",
       "1205     -9.699846e-08      12        10    hbo         True  S12_D10 hbo  \n",
       "7145     -1.161915e-07      20        16    hbo         True  S20_D16 hbo  \n",
       "413      -2.044379e-07      10         7    hbo         True   S10_D7 hbo  \n",
       "\n",
       "[98 rows x 12 columns]"
      ]
     },
<<<<<<< Updated upstream
     "execution_count": 44,
=======
     "execution_count": 102,
>>>>>>> Stashed changes
     "metadata": {},
     "output_type": "execute_result"
    }
   ],
   "source": [
    "# sort channels by t-value\n",
    "df_glm_M_sorted = df_glm_M.sort_values(by='t', ascending=False)\n",
    "\n",
    "# get the top 5 channels\n",
    "top_channels = df_glm_M_sorted.ch_name.unique()[:10]\n",
    "\n",
    "df_glm_M_sorted"
   ]
  },
  {
   "cell_type": "code",
<<<<<<< Updated upstream
   "execution_count": 45,
=======
   "execution_count": 103,
>>>>>>> Stashed changes
   "metadata": {},
   "outputs": [
    {
     "data": {
      "text/plain": [
       "['S13_D11 hbo',\n",
       " 'S23_D19 hbo',\n",
       " 'S13_D8 hbo',\n",
       " 'S21_D19 hbo',\n",
       " 'S8_D4 hbo',\n",
       " 'S5_D4 hbo',\n",
       " 'S22_D20 hbo',\n",
       " 'S28_D27 hbo',\n",
       " 'S13_D13 hbo',\n",
       " 'S26_D24 hbo']"
      ]
     },
<<<<<<< Updated upstream
     "execution_count": 45,
=======
     "execution_count": 103,
>>>>>>> Stashed changes
     "metadata": {},
     "output_type": "execute_result"
    }
   ],
   "source": [
    "list_top_channels =top_channels.tolist()\n",
    "\n",
    "list_top_channels"
   ]
  },
  {
   "cell_type": "markdown",
   "metadata": {},
   "source": [
    "# 4. Save data"
   ]
  },
  {
   "cell_type": "code",
<<<<<<< Updated upstream
   "execution_count": 46,
=======
   "execution_count": 104,
>>>>>>> Stashed changes
   "metadata": {},
   "outputs": [
    {
     "name": "stdout",
     "output_type": "stream",
     "text": [
      "../data/derivatives/mne-nirs/S01\n"
     ]
    }
   ],
   "source": [
    "from mne_nirs.io import write_raw_snirf\n",
    "\n",
    "\n",
    "# write data_path using p_id.\n",
    "derivatives_data_path = os.path.join('..', 'data', 'derivatives', 'mne-nirs', p_id)\n",
    "\n",
    "if not os.path.exists(derivatives_data_path):\n",
    "    os.makedirs(derivatives_data_path)\n",
    "\n",
    "print(derivatives_data_path)\n",
    "\n",
    "# save glm results to a file\n",
    "df_glm.to_csv(os.path.join(derivatives_data_path, f'sub-{p_id}_run-{run_id}_glm_lsa.csv'))\n",
    "\n",
    "\n",
    "# write_raw_snirf(long_haemo, os.path.join(derivatives_data_path, f'{p_id}_{run_id}_long_haemo.snirf'))"
   ]
  },
  {
   "cell_type": "code",
<<<<<<< Updated upstream
   "execution_count": 47,
=======
   "execution_count": 105,
>>>>>>> Stashed changes
   "metadata": {},
   "outputs": [
    {
     "name": "stdout",
     "output_type": "stream",
     "text": [
      "Overwriting existing file.\n",
<<<<<<< Updated upstream
      "Writing /Users/brunomiguel/Documents/GitHub/NIRS-UCP/scripts/../data/derivatives/mne-nirs/S01/sub-S01_run-1_long_haemo.fif\n",
      "Closing /Users/brunomiguel/Documents/GitHub/NIRS-UCP/scripts/../data/derivatives/mne-nirs/S01/sub-S01_run-1_long_haemo.fif\n",
=======
      "Writing /Users/brunoleitao/Documents/GitHub/NIRS-UCP/scripts/../data/derivatives/mne-nirs/S01/sub-S01_run-1_long_haemo.fif\n",
      "Closing /Users/brunoleitao/Documents/GitHub/NIRS-UCP/scripts/../data/derivatives/mne-nirs/S01/sub-S01_run-1_long_haemo.fif\n",
>>>>>>> Stashed changes
      "[done]\n"
     ]
    },
    {
     "name": "stderr",
     "output_type": "stream",
     "text": [
<<<<<<< Updated upstream
      "/var/folders/d_/lr6pgxv95sgf0gw5zh_09rs40000gn/T/ipykernel_75471/3573592471.py:2: RuntimeWarning: This filename (/Users/brunomiguel/Documents/GitHub/NIRS-UCP/scripts/../data/derivatives/mne-nirs/S01/sub-S01_run-1_long_haemo.fif) does not conform to MNE naming conventions. All raw files should end with raw.fif, raw_sss.fif, raw_tsss.fif, _meg.fif, _eeg.fif, _ieeg.fif, raw.fif.gz, raw_sss.fif.gz, raw_tsss.fif.gz, _meg.fif.gz, _eeg.fif.gz or _ieeg.fif.gz\n",
=======
      "/var/folders/nj/5_rdn90926779n4b6y3sbq9c0000gn/T/ipykernel_13406/3573592471.py:2: RuntimeWarning: This filename (/Users/brunoleitao/Documents/GitHub/NIRS-UCP/scripts/../data/derivatives/mne-nirs/S01/sub-S01_run-1_long_haemo.fif) does not conform to MNE naming conventions. All raw files should end with raw.fif, raw_sss.fif, raw_tsss.fif, _meg.fif, _eeg.fif, _ieeg.fif, raw.fif.gz, raw_sss.fif.gz, raw_tsss.fif.gz, _meg.fif.gz, _eeg.fif.gz or _ieeg.fif.gz\n",
>>>>>>> Stashed changes
      "  long_haemo.save(os.path.join(derivatives_data_path, f'sub-{p_id}_run-{run_id}_long_haemo.fif'), overwrite=True)\n"
     ]
    }
   ],
   "source": [
    "# save long_haemo to file\n",
    "long_haemo.save(os.path.join(derivatives_data_path, f'sub-{p_id}_run-{run_id}_long_haemo.fif'), overwrite=True)"
   ]
  }
 ],
 "metadata": {
  "kernelspec": {
   "display_name": "MNE-NIRS",
   "language": "python",
   "name": "python3"
  },
  "language_info": {
   "codemirror_mode": {
    "name": "ipython",
    "version": 3
   },
   "file_extension": ".py",
   "mimetype": "text/x-python",
   "name": "python",
   "nbconvert_exporter": "python",
   "pygments_lexer": "ipython3",
   "version": "3.12.4"
  }
 },
 "nbformat": 4,
 "nbformat_minor": 2
}
